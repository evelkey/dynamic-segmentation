{
 "cells": [
  {
   "cell_type": "markdown",
   "metadata": {},
   "source": [
    "## Sentence"
   ]
  },
  {
   "cell_type": "code",
   "execution_count": 27,
   "metadata": {},
   "outputs": [
    {
     "name": "stdout",
     "output_type": "stream",
     "text": [
      "count:  110\n",
      "best:  ['/mnt/permanent/Home/nessie/velkey/logs/sentence/sentence_lstm__128_64_64__conv_channel__200_80_80_1__kernels__7_7_7_1_', 0.00480938, 99.6432073622, 0.975088599129, 0.97909964086, 97.92048216842596, 74.5034756703]\n"
     ]
    }
   ],
   "source": [
    "experiments = [line.rstrip('\\n').split('\\t') for line in open('sent_hyper.log')]\n",
    "experiments = [[exp[0]] + [float(exper) for exper in exp[1:]] for exp in experiments]\n",
    "\n",
    "print(\"count: \", len(experiments))\n",
    "best_word_acc = max(experiments, key=lambda x: x[-2])\n",
    "print(\"best: \", best_word_acc)"
   ]
  },
  {
   "cell_type": "markdown",
   "metadata": {},
   "source": [
    "## Sentence conv"
   ]
  },
  {
   "cell_type": "code",
   "execution_count": 28,
   "metadata": {},
   "outputs": [
    {
     "name": "stdout",
     "output_type": "stream",
     "text": [
      "count:  30\n",
      "best:  ['/mnt/permanent/Home/nessie/velkey/logs/sentence_conv/sentence_convlstm__128_128_64__conv_channel__64_32_1__kernels__3_9_3_', 0.00763153, 99.3670096262, 0.952383290707, 0.962730494935, 96.18893809729946, 59.6573982125]\n"
     ]
    }
   ],
   "source": [
    "experiments = [line.rstrip('\\n').split('\\t') for line in open('sentconv_hyper.log')]\n",
    "experiments = [[exp[0]] + [float(exper) for exper in exp[1:]] for exp in experiments]\n",
    "\n",
    "print(\"count: \", len(experiments))\n",
    "best_word_acc = max(experiments, key=lambda x: x[-2])\n",
    "print(\"best: \", best_word_acc)"
   ]
  },
  {
   "cell_type": "markdown",
   "metadata": {},
   "source": [
    "## Word"
   ]
  },
  {
   "cell_type": "code",
   "execution_count": 29,
   "metadata": {},
   "outputs": [
    {
     "name": "stdout",
     "output_type": "stream",
     "text": [
      "count:  149\n",
      "best:  ['/mnt/permanent/Home/nessie/velkey/logs/word/word_lstm__256_256_256__conv_channel__120_64_64_64_1__kernels__9_5_3_3_1_', 0.023708, 98.6406298555, 0.945113047862, 0.953722756806, 87.3320537428]\n"
     ]
    }
   ],
   "source": [
    "experiments = [line.rstrip('\\n').split('\\t') for line in open('word_hyper.log')]\n",
    "experiments = [[exp[0]] + [float(exper) for exper in exp[1:]] for exp in experiments]\n",
    "\n",
    "print(\"count: \", len(experiments))\n",
    "best_word_acc = max(experiments, key=lambda x: x[-2])\n",
    "print(\"best: \", best_word_acc)"
   ]
  },
  {
   "cell_type": "code",
   "execution_count": null,
   "metadata": {},
   "outputs": [],
   "source": [
    "## Word "
   ]
  }
 ],
 "metadata": {
  "kernelspec": {
   "display_name": "Python 3",
   "language": "python",
   "name": "python3"
  },
  "language_info": {
   "codemirror_mode": {
    "name": "ipython",
    "version": 3
   },
   "file_extension": ".py",
   "mimetype": "text/x-python",
   "name": "python",
   "nbconvert_exporter": "python",
   "pygments_lexer": "ipython3",
   "version": "3.4.2"
  }
 },
 "nbformat": 4,
 "nbformat_minor": 2
}
