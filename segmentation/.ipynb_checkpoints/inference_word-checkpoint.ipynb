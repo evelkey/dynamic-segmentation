{
 "cells": [
  {
   "cell_type": "code",
   "execution_count": 1,
   "metadata": {},
   "outputs": [
    {
     "name": "stdout",
     "output_type": "stream",
     "text": [
      "['!', '\"', '$', '%', '&', \"'\", '(', ')', '+', ',', '-', '.', '/', '0', '1', '2', '3', '4', '5', '6', '7', '8', '9', ';', '?', 'A', 'B', 'C', 'D', 'E', 'F', 'G', 'H', 'I', 'J', 'K', 'L', 'M', 'N', 'O', 'P', 'Q', 'R', 'S', 'T', 'U', 'V', 'W', 'X', 'Y', 'Z', 'a', 'b', 'c', 'd', 'e', 'f', 'g', 'h', 'i', 'j', 'k', 'l', 'm', 'n', 'o', 'p', 'q', 'r', 's', 't', 'u', 'v', 'w', 'x', 'y', 'z', '§', '°', 'Á', 'É', 'Í', 'Ó', 'Ö', 'Ú', 'Ü', 'á', 'ä', 'é', 'ë', 'í', 'ó', 'ö', 'ú', 'ü', 'Ő', 'ő', 'ű']\n",
      "INFO:tensorflow:Restoring parameters from /mnt/permanent/Home/nessie/velkey/logs/test_infer/model.ckpt-14756\n"
     ]
    }
   ],
   "source": [
    "import numpy as n\n",
    "import tensorflow as tf\n",
    "import tools\n",
    "from data import Data\n",
    "import numpy as np\n",
    "\n",
    "config = tf.ConfigProto(\n",
    "        device_count = {'GPU': 0}\n",
    "    )\n",
    " \n",
    "FLAGS = tf.app.flags.FLAGS\n",
    "tf.app.flags.DEFINE_integer('truncate',      30, \"\"\"truncate input sequences to this length\"\"\")\n",
    "tf.app.flags.DEFINE_string('data_dir',       \"/mnt/permanent/Home/nessie/velkey/data/\",\"\"\"\"\"\")\n",
    "tf.app.flags.DEFINE_integer('batch_size',    256, \"\"\"batchsize\"\"\")\n",
    "path = \"/mnt/permanent/Home/nessie/velkey/logs/word\"\n",
    "name = \"\"\n",
    "#dataset todo\n",
    "segment_symbol = \" \"\n",
    "\n",
    "sess = tf.Session(config=config) \n",
    "\n",
    "meta = tools.getmeta(path + name)\n",
    "saver = tf.train.import_meta_graph(path + name + \"/\" + meta)\n",
    "store = Data(FLAGS.data_dir + \"word/\", FLAGS.truncate)\n",
    "\n",
    "saver.restore(sess,tf.train.latest_checkpoint(path + name))\n",
    "keys = [tensor.name for tensor in tf.get_default_graph().as_graph_def().node]\n",
    "graph = tf.get_default_graph()\n",
    "tensor = lambda name: graph.get_tensor_by_name(name)\n"
   ]
  },
  {
   "cell_type": "code",
   "execution_count": 2,
   "metadata": {},
   "outputs": [],
   "source": [
    "def preprocess(word):\n",
    "    word_ = store.onehot(word)\n",
    "    if len(word) > FLAGS.truncate:\n",
    "        word_ = word_[:FLAGS.truncate]\n",
    "    else:\n",
    "        pads = ((FLAGS.truncate - len(word), 0), (0, 0))\n",
    "        word_ = np.pad(word_,  pad_width=pads, mode=\"constant\",)\n",
    "    in_tensor = np.expand_dims(word_, axis=0)\n",
    "    return in_tensor\n",
    "\n",
    "def inference(word):\n",
    "    in_tensor = preprocess(word)\n",
    "    out = sess.run(tensor(\"output:0\"), feed_dict={tensor(\"input_x:0\"): in_tensor})\n",
    "    out = np.squeeze(out)[-len(word):]\n",
    "    outword = \"\".join([segment_symbol + char if seg else char for char, seg in zip(word, out)])\n",
    "    return outword\n",
    "\n",
    "def randomword(dataset=\"test\"):\n",
    "    pass"
   ]
  },
  {
   "cell_type": "code",
   "execution_count": 3,
   "metadata": {},
   "outputs": [
    {
     "data": {
      "application/vnd.jupyter.widget-view+json": {
       "model_id": "43b044419b2549ffaf15356b29a09600",
       "version_major": 2,
       "version_minor": 0
      },
      "text/html": [
       "<p>Failed to display Jupyter Widget of type <code>Text</code>.</p>\n",
       "<p>\n",
       "  If you're reading this message in Jupyter Notebook or JupyterLab, it may mean\n",
       "  that the widgets JavaScript is still loading. If this message persists, it\n",
       "  likely means that the widgets JavaScript library is either not installed or\n",
       "  not enabled. See the <a href=\"https://ipywidgets.readthedocs.io/en/stable/user_install.html\">Jupyter\n",
       "  Widgets Documentation</a> for setup instructions.\n",
       "</p>\n",
       "<p>\n",
       "  If you're reading this message in another notebook frontend (for example, a static\n",
       "  rendering on GitHub or <a href=\"https://nbviewer.jupyter.org/\">NBViewer</a>),\n",
       "  it may mean that your frontend doesn't currently support widgets.\n",
       "</p>\n"
      ],
      "text/plain": [
       "Text(value='')"
      ]
     },
     "metadata": {},
     "output_type": "display_data"
    },
    {
     "name": "stdout",
     "output_type": "stream",
     "text": [
      "integrálható  ->  integrál ható\n",
      "integrálok  ->  integrál ok\n",
      "mindenkivel  ->  mindenki vel\n",
      "kiskacsákkal  ->  kiskacsá k kal\n"
     ]
    }
   ],
   "source": [
    "from ipywidgets import widgets\n",
    "from IPython.display import display\n",
    "tbox = widgets.Text()\n",
    "display(tbox)\n",
    "\n",
    "def handle_submit(sender):\n",
    "    print(tbox.value, \" -> \", inference(tbox.value))\n",
    "tbox.on_submit(handle_submit)"
   ]
  }
 ],
 "metadata": {
  "kernelspec": {
   "display_name": "Python 3",
   "language": "python",
   "name": "python3"
  },
  "language_info": {
   "codemirror_mode": {
    "name": "ipython",
    "version": 3
   },
   "file_extension": ".py",
   "mimetype": "text/x-python",
   "name": "python",
   "nbconvert_exporter": "python",
   "pygments_lexer": "ipython3",
   "version": "3.4.2"
  }
 },
 "nbformat": 4,
 "nbformat_minor": 2
}
