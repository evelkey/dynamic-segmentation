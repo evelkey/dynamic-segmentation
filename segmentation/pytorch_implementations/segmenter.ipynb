{
 "cells": [
  {
   "cell_type": "code",
   "execution_count": 1,
   "metadata": {},
   "outputs": [],
   "source": [
    "from __future__ import unicode_literals, print_function, division\n",
    "from io import open\n",
    "%matplotlib inline\n",
    "import unicodedata\n",
    "import string\n",
    "import re\n",
    "import random\n",
    "import numpy as np\n",
    "\n",
    "from conv_1d_lstm import MultiConvLSTM\n",
    "import torch\n",
    "import torch.nn as nn\n",
    "from torch.autograd import Variable\n",
    "from torch import optim\n",
    "import torch.nn.functional as F\n",
    "\n",
    "use_cuda = torch.cuda.is_available()"
   ]
  },
  {
   "cell_type": "code",
   "execution_count": 2,
   "metadata": {},
   "outputs": [],
   "source": [
    "#read data and build vocabulary\n"
   ]
  },
  {
   "cell_type": "code",
   "execution_count": 3,
   "metadata": {},
   "outputs": [],
   "source": [
    "#create segmenter"
   ]
  },
  {
   "cell_type": "code",
   "execution_count": 29,
   "metadata": {},
   "outputs": [
    {
     "name": "stdout",
     "output_type": "stream",
     "text": [
      "convlstm module: MultiConvLSTM (\n",
      "  (cell_list): ModuleList (\n",
      "    (0): Conv_1D_LSTM_cell (\n",
      "      (conv): Conv1d(9, 32, kernel_size=(5,), stride=(1,), padding=(2,))\n",
      "    )\n",
      "    (1): Conv_1D_LSTM_cell (\n",
      "      (conv): Conv1d(17, 36, kernel_size=(5,), stride=(1,), padding=(2,))\n",
      "    )\n",
      "    (2): Conv_1D_LSTM_cell (\n",
      "      (conv): Conv1d(20, 44, kernel_size=(5,), stride=(1,), padding=(2,))\n",
      "    )\n",
      "  )\n",
      ")\n",
      "params:\n",
      "param  torch.Size([32, 9, 5])\n",
      "mean  Variable containing:\n",
      "1.00000e-04 *\n",
      " -6.4043\n",
      "[torch.cuda.FloatTensor of size 1 (GPU 0)]\n",
      "\n",
      "param  torch.Size([32])\n",
      "mean  Variable containing:\n",
      "1.00000e-02 *\n",
      " -1.0062\n",
      "[torch.cuda.FloatTensor of size 1 (GPU 0)]\n",
      "\n",
      "param  torch.Size([36, 17, 5])\n",
      "mean  Variable containing:\n",
      "1.00000e-04 *\n",
      "  8.5675\n",
      "[torch.cuda.FloatTensor of size 1 (GPU 0)]\n",
      "\n",
      "param  torch.Size([36])\n",
      "mean  Variable containing:\n",
      "1.00000e-02 *\n",
      " -1.2562\n",
      "[torch.cuda.FloatTensor of size 1 (GPU 0)]\n",
      "\n",
      "param  torch.Size([44, 20, 5])\n",
      "mean  Variable containing:\n",
      "1.00000e-04 *\n",
      " -6.7806\n",
      "[torch.cuda.FloatTensor of size 1 (GPU 0)]\n",
      "\n",
      "param  torch.Size([44])\n",
      "mean  Variable containing:\n",
      "1.00000e-03 *\n",
      " -1.4395\n",
      "[torch.cuda.FloatTensor of size 1 (GPU 0)]\n",
      "\n",
      "hidden_h shape  3\n",
      "hidden_h shape  torch.Size([10, 8, 26])\n",
      "out shape torch.Size([11, 10, 11, 26])\n",
      "len hidden  3\n",
      "next hidden torch.Size([10, 11, 26])\n",
      "convlstm dict odict_keys(['cell_list.0.conv.weight', 'cell_list.0.conv.bias', 'cell_list.1.conv.weight', 'cell_list.1.conv.bias', 'cell_list.2.conv.weight', 'cell_list.2.conv.bias'])\n"
     ]
    }
   ],
   "source": [
    "num_features=[8,9,11]\n",
    "filter_size=5\n",
    "batch_size=10\n",
    "shape=26\n",
    "inp_chans=1\n",
    "nlayers=3\n",
    "seq_len=11\n",
    "\n",
    "#If using this format, then we need to transpose in CLSTM\n",
    "input = Variable(torch.rand(batch_size,seq_len,inp_chans,shape)).cuda()\n",
    "\n",
    "conv_lstm=MultiConvLSTM(shape, inp_chans, filter_size, num_features,nlayers)\n",
    "#conv_lstm.apply(weights_init)\n",
    "conv_lstm.cuda()\n",
    "\n",
    "print('convlstm module:',conv_lstm)\n",
    "\n",
    "\n",
    "print('params:')\n",
    "params=conv_lstm.parameters()\n",
    "for p in params:\n",
    "   print ('param ',p.size())\n",
    "   print ('mean ',torch.mean(p))\n",
    "\n",
    "\n",
    "hidden_state=conv_lstm.init_hidden(batch_size)\n",
    "print('hidden_h shape ',len(hidden_state))\n",
    "print ('hidden_h shape ',hidden_state[0][0].size())\n",
    "out=conv_lstm(input,hidden_state)\n",
    "\n",
    "print ('out shape',out[1].size())\n",
    "print ('len hidden ', len(out[0]))\n",
    "layer=2\n",
    "print ('next hidden',out[0][layer][0].size())\n",
    "print ('convlstm dict',conv_lstm.state_dict().keys())\n",
    "\n",
    "\n",
    "L=torch.sum(out[1])\n",
    "L.backward()"
   ]
  },
  {
   "cell_type": "code",
   "execution_count": 19,
   "metadata": {},
   "outputs": [
    {
     "name": "stdout",
     "output_type": "stream",
     "text": [
      "kis notú za tá tnem arlab ascak\n"
     ]
    }
   ],
   "source": [
    "a = \"kiskacsa balra ment át az úton\"\n",
    "target = \"kis+kacsa bal+ra ment át az út+on\"\n",
    "b = a[::-1]\n",
    "index = 3\n",
    "data = a\n",
    "ine = data[:3]\n",
    "inr = data[3:][::-1]\n",
    "print(ine, inr)"
   ]
  },
  {
   "cell_type": "code",
   "execution_count": null,
   "metadata": {},
   "outputs": [],
   "source": []
  }
 ],
 "metadata": {
  "kernelspec": {
   "display_name": "Python 3",
   "language": "python",
   "name": "python3"
  },
  "language_info": {
   "codemirror_mode": {
    "name": "ipython",
    "version": 3
   },
   "file_extension": ".py",
   "mimetype": "text/x-python",
   "name": "python",
   "nbconvert_exporter": "python",
   "pygments_lexer": "ipython3",
   "version": "3.5.2"
  }
 },
 "nbformat": 4,
 "nbformat_minor": 2
}
