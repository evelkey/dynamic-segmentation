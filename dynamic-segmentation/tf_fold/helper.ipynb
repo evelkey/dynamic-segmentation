{
 "cells": [
  {
   "cell_type": "markdown",
   "metadata": {},
   "source": [
    "# Helper functions for Tensorflow Fold\n",
    "\n"
   ]
  },
  {
   "cell_type": "code",
   "execution_count": null,
   "metadata": {},
   "outputs": [],
   "source": [
    "length = td.Length()\n",
    "\n",
    "embedded =  (td.InputTransform(lambda s: [index(x) for x in s]) >> \n",
    "             td.Map(td.Scalar(tf.int32) >> \n",
    "             td.Function(td.Embedding(vsize, EMBEDDING_SIZE))))\n",
    "\n",
    "onehot = (td.InputTransform(lambda s: [index(x) for x in s]) >>\n",
    "          td.Map(td.Scalar(tf.int32) >>\n",
    "          td.Function(lambda indices: tf.one_hot(indices, depth=vsize)) >>\n",
    "          td.Function(lambda x: tf.reshape(x, [-1,vsize,1]))))\n",
    "\n",
    "decode_onehot = td.InputTransform(lambda s: [char(np.argmax(np.squeeze(x))) for x in s])\n",
    "\n",
    "print(decode_onehot.eval(onehot.eval(\"malú\")))\n",
    "#embedded.eval(\"kacsa\")"
   ]
  },
  {
   "cell_type": "code",
   "execution_count": null,
   "metadata": {},
   "outputs": [],
   "source": [
    "def conv1d_on_sequence(x, scope, kernel_size=3, input_channels=72, output_channels=72):\n",
    "    with tf.variable_scope(scope) as sc:\n",
    "        filters = tf.get_variable(\"conv_filter\", [kernel_size] +  [input_channels, output_channels] , initializer=tf.truncated_normal_initializer(stddev=0.1))\n",
    "        bias = tf.get_variable(\"conv_bias\",  output_channels, initializer=tf.constant_initializer(0.05, dtype=tf.float32))\n",
    "        conv = tf.nn.conv1d(x, filters=filters, stride=1, padding='VALID')\n",
    "        return tf.nn.relu(tf.add(conv, bias))\n",
    "    \n",
    "def SeqToTuple(T, N):\n",
    "    return (td.InputTransform(lambda x: tuple(x))\n",
    "            .set_input_type(td.SequenceType(T))\n",
    "            .set_output_type(td.Tuple(*([T] * N))))   "
   ]
  },
  {
   "cell_type": "code",
   "execution_count": null,
   "metadata": {},
   "outputs": [],
   "source": []
  }
 ],
 "metadata": {
  "kernelspec": {
   "display_name": "Python 3",
   "language": "python",
   "name": "python3"
  },
  "language_info": {
   "codemirror_mode": {
    "name": "ipython",
    "version": 3
   },
   "file_extension": ".py",
   "mimetype": "text/x-python",
   "name": "python",
   "nbconvert_exporter": "python",
   "pygments_lexer": "ipython3",
   "version": "3.5.2"
  }
 },
 "nbformat": 4,
 "nbformat_minor": 2
}
