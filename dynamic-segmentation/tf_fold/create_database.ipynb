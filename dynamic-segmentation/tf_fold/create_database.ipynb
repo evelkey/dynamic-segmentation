{
 "cells": [
  {
   "cell_type": "markdown",
   "metadata": {},
   "source": [
    "# Create Sentence datasets"
   ]
  },
  {
   "cell_type": "code",
   "execution_count": 1,
   "metadata": {},
   "outputs": [],
   "source": [
    "import os\n",
    "files = dict()\n",
    "dirr = \"/mnt/permanent/Home/nessie/velkey/data/szeged_morph_disambig_corp/\"\n",
    "for filename in os.listdir(dirr):\n",
    "    files[filename] = [line.rstrip('\\n') for line in open(dirr + filename)]"
   ]
  },
  {
   "cell_type": "code",
   "execution_count": 2,
   "metadata": {},
   "outputs": [],
   "source": [
    "sentences = [[]]\n",
    "for file in files:\n",
    "    data = files[file]\n",
    "    for line in data:\n",
    "        if line == \"\":\n",
    "            sentences.append([])\n",
    "        else:\n",
    "            word = line.split(\"\\t\")[6]\n",
    "            word = word.replace(\" \",\"|\")\n",
    "            sentences[-1].append(word)\n",
    "            \n",
    "sentences.remove([])"
   ]
  },
  {
   "cell_type": "code",
   "execution_count": 3,
   "metadata": {},
   "outputs": [],
   "source": [
    "data_with_labels = []\n",
    "for sent in sentences:\n",
    "    if '' in sent:\n",
    "        sent.remove('')\n",
    "    string = \" \".join(sent)\n",
    "    label = []\n",
    "    for i in range(len(string)):\n",
    "        if string[i] != \"|\":\n",
    "            label.append(1 if string[i-1] == \"|\" else 0)\n",
    "    string = string.replace(\"|\",\"\")\n",
    "    if len(label) != len(string):\n",
    "        print(len(label), len(string))\n",
    "    data_with_labels.append((string, label))"
   ]
  },
  {
   "cell_type": "markdown",
   "metadata": {},
   "source": [
    "## Filter duplicates"
   ]
  },
  {
   "cell_type": "code",
   "execution_count": 4,
   "metadata": {},
   "outputs": [],
   "source": [
    "ls = [item[0] for item in data_with_labels]\n",
    "unique = set(ls)\n",
    "\n",
    "data_with_labels = [(sent, data_with_labels[ls.index(sent)][1]) for sent in unique]"
   ]
  },
  {
   "cell_type": "markdown",
   "metadata": {},
   "source": [
    "## Data analysis"
   ]
  },
  {
   "cell_type": "code",
   "execution_count": 5,
   "metadata": {},
   "outputs": [
    {
     "name": "stdout",
     "output_type": "stream",
     "text": [
      "sentence count:  80567\n",
      "avg len:  109.896967741\n",
      "std dev:  80.8363044697\n"
     ]
    },
    {
     "data": {
      "image/png": "[encoded data removed]",
      "text/plain": [
       "<matplotlib.figure.Figure at 0x7f15944baf60>"
      ]
     },
     "metadata": {},
     "output_type": "display_data"
    },
    {
     "data": {
      "image/png": "[encoded data removed]",
      "text/plain": [
       "<matplotlib.figure.Figure at 0x7f157aa23278>"
      ]
     },
     "metadata": {},
     "output_type": "display_data"
    }
   ],
   "source": [
    "import numpy as np\n",
    "import matplotlib.pyplot as plt\n",
    "%matplotlib inline\n",
    "from IPython.core.pylabtools import figsize\n",
    "figsize(16, 7)\n",
    "lens = [len(sent[0]) for sent in data_with_labels]\n",
    "print(\"sentence count: \", len(lens))\n",
    "print(\"avg len: \", np.average(lens))\n",
    "print(\"std dev: \", np.std(lens))\n",
    "\n",
    "bins = np.linspace(0, 500, 500)\n",
    "\n",
    "n, bins, patches = plt.hist(lens, bins, cumulative=True, normed=True)\n",
    "plt.xlabel('Sentence length')\n",
    "plt.ylabel('Probability')\n",
    "plt.title('Sentence length distribution')\n",
    "plt.savefig(\"images/sentence_length_distribution.png\")\n",
    "plt.show()\n",
    "\n",
    "n, bins, patches = plt.hist(lens, bins, cumulative=False, normed=True)\n",
    "plt.xlabel('Sentence length')\n",
    "plt.ylabel('Density')\n",
    "plt.title('Sentence length histogram (pdf)')\n",
    "plt.savefig(\"images/sentence_length_histogram.png\")\n",
    "plt.show()\n"
   ]
  },
  {
   "cell_type": "markdown",
   "metadata": {},
   "source": [
    "## Create datasets\n"
   ]
  },
  {
   "cell_type": "code",
   "execution_count": 6,
   "metadata": {},
   "outputs": [],
   "source": [
    "from random import shuffle\n",
    "shuffle(data_with_labels)\n",
    "shuffled = data_with_labels\n",
    "train = shuffled[:int(0.9*len(shuffled))]\n",
    "test = shuffled[int(0.9*len(shuffled)):int(0.95*len(shuffled))]\n",
    "validation = shuffled[int(0.95*len(shuffled)):]\n",
    "\n",
    "crop = 50000 #length of longest sentence\n",
    "outdir = \"/mnt/permanent/Home/nessie/velkey/data/sentence/\"\n",
    "\n",
    "def list_to_str(lista):\n",
    "    string =\"\"\n",
    "    for item in lista:\n",
    "        string += str(item)\n",
    "    return string\n",
    "\n",
    "with open(outdir + \"train\", 'w') as f:\n",
    "    for data in train:\n",
    "        if crop >= len(data):\n",
    "            f.write(str(data[0] + '\\t' + list_to_str(data[1]) + '\\n'))\n",
    "            \n",
    "with open(outdir + \"test\", 'w') as f:\n",
    "    for data in test:\n",
    "        if crop >= len(data):\n",
    "            f.write(str(data[0] + '\\t' + list_to_str(data[1]) + '\\n'))\n",
    "            \n",
    "with open(outdir + \"validation\", 'w') as f:\n",
    "    for data in validation:\n",
    "        if crop >= len(data):\n",
    "            f.write(str(data[0] + '\\t' + list_to_str(data[1]) + '\\n'))\n",
    "            \n",
    "with open(outdir + \"vocabulary\", 'w') as f:\n",
    "    chars = set()\n",
    "    for s in data_with_labels:\n",
    "        for char in s[0]:\n",
    "            chars.add(char)\n",
    "    f.write(''.join(sorted(list(chars))))\n",
    "    "
   ]
  },
  {
   "cell_type": "markdown",
   "metadata": {},
   "source": [
    "## Label analysis"
   ]
  },
  {
   "cell_type": "code",
   "execution_count": 17,
   "metadata": {},
   "outputs": [
    {
     "name": "stdout",
     "output_type": "stream",
     "text": [
      "Zero fraction in sentence labels:  91.37920655463607 %\n",
      "avg morhemes/sentence:  9.473990591681458\n"
     ]
    }
   ],
   "source": [
    "count = 0\n",
    "summed = 0\n",
    "for sent in data_with_labels:\n",
    "    count += len(sent[1])\n",
    "    summed += sum(sent[1])\n",
    "    \n",
    "print(\"Zero fraction in sentence labels: \", (1-(summed/count))*100, \"%\")\n",
    "print(\"avg morhemes/sentence: \", summed/len(data_with_labels))"
   ]
  },
  {
   "cell_type": "markdown",
   "metadata": {},
   "source": [
    "\n",
    "# Create word datasets\n"
   ]
  },
  {
   "cell_type": "code",
   "execution_count": 8,
   "metadata": {},
   "outputs": [],
   "source": [
    "files = dict()\n",
    "dirr = \"/mnt/permanent/Home/nessie/velkey/data/szeged_morph_disambig_corp/\"\n",
    "for filename in os.listdir(dirr):\n",
    "    files[filename] = [line.rstrip('\\n') for line in open(dirr + filename)]"
   ]
  },
  {
   "cell_type": "code",
   "execution_count": 9,
   "metadata": {},
   "outputs": [],
   "source": [
    "words = []\n",
    "for file in files:\n",
    "    data = files[file]\n",
    "    for line in data:\n",
    "        if line != \"\":\n",
    "            word = line.split(\"\\t\")[6]\n",
    "            word = word.replace(\" \",\"|\")\n",
    "            if word != \"\":\n",
    "                words.append(word)"
   ]
  },
  {
   "cell_type": "code",
   "execution_count": 10,
   "metadata": {},
   "outputs": [],
   "source": [
    "word_data_with_labels = []\n",
    "for string in words:\n",
    "    label = []\n",
    "    for i in range(len(string)):\n",
    "        if string[i] != \"|\":\n",
    "            label.append(1 if string[i-1] == \"|\" else 0)\n",
    "    string = string.replace(\"|\",\"\")\n",
    "    if len(label) != len(string):\n",
    "        print(len(label), len(string))\n",
    "    word_data_with_labels.append((string, label))"
   ]
  },
  {
   "cell_type": "markdown",
   "metadata": {},
   "source": [
    "## Filter duplicates"
   ]
  },
  {
   "cell_type": "code",
   "execution_count": 11,
   "metadata": {},
   "outputs": [],
   "source": [
    "ls = [item[0] for item in word_data_with_labels]\n",
    "unique = set(ls)\n",
    "\n",
    "word_data_with_labels = [(sent, word_data_with_labels[ls.index(sent)][1]) for sent in unique]"
   ]
  },
  {
   "cell_type": "markdown",
   "metadata": {},
   "source": [
    "## Analyse word dataset"
   ]
  },
  {
   "cell_type": "code",
   "execution_count": 14,
   "metadata": {},
   "outputs": [
    {
     "name": "stdout",
     "output_type": "stream",
     "text": [
      "word count:  135469\n",
      "avg len:  10.024160509\n",
      "std dev:  3.64971297987\n"
     ]
    },
    {
     "data": {
      "image/png": "[encoded data removed]",
      "text/plain": [
       "<matplotlib.figure.Figure at 0x7f159bae58d0>"
      ]
     },
     "metadata": {},
     "output_type": "display_data"
    },
    {
     "data": {
      "image/png": "[encoded data removed]",
      "text/plain": [
       "<matplotlib.figure.Figure at 0x7f15966bbb00>"
      ]
     },
     "metadata": {},
     "output_type": "display_data"
    }
   ],
   "source": [
    "import numpy as np\n",
    "import matplotlib.pyplot as plt\n",
    "%matplotlib inline\n",
    "from IPython.core.pylabtools import figsize\n",
    "figsize(16, 7)\n",
    "lens = [len(word[0]) for word in word_data_with_labels]\n",
    "print(\"word count: \", len(lens))\n",
    "print(\"avg len: \", np.average(lens))\n",
    "print(\"std dev: \", np.std(lens))\n",
    "\n",
    "bins = np.linspace(0, 30, 30)\n",
    "\n",
    "n, bins, patches = plt.hist(lens, bins, cumulative=True, normed=True)\n",
    "plt.xlabel('Word length')\n",
    "plt.ylabel('Probability')\n",
    "plt.title('Word length distribution')\n",
    "plt.savefig(\"images/word_length_distribution.png\")\n",
    "plt.show()\n",
    "\n",
    "n, bins, patches = plt.hist(lens, bins, cumulative=False, normed=True)\n",
    "plt.xlabel('Word length')\n",
    "plt.ylabel('Density')\n",
    "plt.title('Word length histogram (pdf)')\n",
    "plt.savefig(\"images/word_length_histogram.png\")\n",
    "plt.show()\n"
   ]
  },
  {
   "cell_type": "markdown",
   "metadata": {},
   "source": [
    "# Create the word dataset"
   ]
  },
  {
   "cell_type": "code",
   "execution_count": 13,
   "metadata": {},
   "outputs": [],
   "source": [
    "from random import shuffle\n",
    "shuffle(word_data_with_labels)\n",
    "shuffled = word_data_with_labels\n",
    "train = shuffled[:int(0.9*len(shuffled))]\n",
    "test = shuffled[int(0.9*len(shuffled)):int(0.95*len(shuffled))]\n",
    "validation = shuffled[int(0.95*len(shuffled)):]\n",
    "\n",
    "crop = 50000 #length of longest word to save\n",
    "outdir = \"/mnt/permanent/Home/nessie/velkey/data/word/\"\n",
    "\n",
    "def list_to_str(lista):\n",
    "    string =\"\"\n",
    "    for item in lista:\n",
    "        string += str(item)\n",
    "    return string\n",
    "\n",
    "with open(outdir + \"train\", 'w') as f:\n",
    "    for data in train:\n",
    "        if crop >= len(data):\n",
    "            f.write(str(data[0] + '\\t' + list_to_str(data[1]) + '\\n'))\n",
    "            \n",
    "with open(outdir + \"test\", 'w') as f:\n",
    "    for data in test:\n",
    "        if crop >= len(data):\n",
    "            f.write(str(data[0] + '\\t' + list_to_str(data[1]) + '\\n'))\n",
    "            \n",
    "with open(outdir + \"validation\", 'w') as f:\n",
    "    for data in validation:\n",
    "        if crop >= len(data):\n",
    "            f.write(str(data[0] + '\\t' + list_to_str(data[1]) + '\\n'))\n",
    "            \n",
    "with open(outdir + \"vocabulary\", 'w') as f:\n",
    "    chars = set()\n",
    "    for s in data_with_labels:\n",
    "        for char in s[0]:\n",
    "            if char != \" \": chars.add(char)\n",
    "    f.write(''.join(sorted(list(chars))))\n",
    "    "
   ]
  },
  {
   "cell_type": "markdown",
   "metadata": {},
   "source": [
    "## Label analysis"
   ]
  },
  {
   "cell_type": "code",
   "execution_count": 16,
   "metadata": {},
   "outputs": [
    {
     "name": "stdout",
     "output_type": "stream",
     "text": [
      "Zero fraction in sentence labels:  84.91350647992618 %\n",
      "avg morhemes/word:  1.5122943256390762\n"
     ]
    }
   ],
   "source": [
    "count = 0\n",
    "summed = 0\n",
    "for sent in word_data_with_labels:\n",
    "    count += len(sent[1])\n",
    "    summed += sum(sent[1])\n",
    "    \n",
    "print(\"Zero fraction in sentence labels: \", (1-(summed/count))*100, \"%\")\n",
    "print(\"avg morhemes/word: \", summed/len(word_data_with_labels))"
   ]
  }
 ],
 "metadata": {
  "kernelspec": {
   "display_name": "Python 3",
   "language": "python",
   "name": "python3"
  },
  "language_info": {
   "codemirror_mode": {
    "name": "ipython",
    "version": 3
   },
   "file_extension": ".py",
   "mimetype": "text/x-python",
   "name": "python",
   "nbconvert_exporter": "python",
   "pygments_lexer": "ipython3",
   "version": "3.4.2"
  }
 },
 "nbformat": 4,
 "nbformat_minor": 2
}
