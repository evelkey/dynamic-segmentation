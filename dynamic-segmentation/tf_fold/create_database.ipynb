{
 "cells": [
  {
   "cell_type": "code",
   "execution_count": 136,
   "metadata": {},
   "outputs": [
    {
     "name": "stdout",
     "output_type": "stream",
     "text": [
      "137745\n",
      "28196\n",
      "70671\n",
      "53416\n",
      "106461\n",
      "101216\n",
      "236813\n",
      "70244\n",
      "105001\n",
      "82716\n",
      "154186\n",
      "81213\n",
      "68582\n",
      "161539\n",
      "128769\n"
     ]
    }
   ],
   "source": [
    "import os\n",
    "files = dict()\n",
    "dirr = \"/mnt/permanent/Home/nessie/velkey/data/szeged_morph_disambig_corp/\"\n",
    "for filename in os.listdir(dirr):\n",
    "    files[filename] = [line.rstrip('\\n') for line in open(dirr + filename)]\n",
    "for file in files:\n",
    "    print(len(files[file]))"
   ]
  },
  {
   "cell_type": "code",
   "execution_count": 50,
   "metadata": {},
   "outputs": [],
   "source": [
    "sentences = [[]]\n",
    "for file in files:\n",
    "    data = files[file]\n",
    "    for line in data:\n",
    "        if line == \"\":\n",
    "            sentences.append([])\n",
    "        else:\n",
    "            word = line.split(\"\\t\")[6]\n",
    "            word = word.replace(\" \",\"|\")\n",
    "            sentences[-1].append(word)\n",
    "            \n",
    "sentences.remove([])"
   ]
  },
  {
   "cell_type": "code",
   "execution_count": 79,
   "metadata": {},
   "outputs": [],
   "source": [
    "data_with_labels = []\n",
    "for sent in sentences:\n",
    "    if '' in sent:\n",
    "        sent.remove('')\n",
    "    string = \" \".join(sent)\n",
    "    label = []\n",
    "    for i in range(len(string)):\n",
    "        if string[i] != \"|\":\n",
    "            label.append(1 if string[i-1] == \"|\" else 0)\n",
    "    string = string.replace(\"|\",\"\")\n",
    "    if len(label) != len(string):\n",
    "        print(len(label), len(string))\n",
    "    data_with_labels.append((string, label))"
   ]
  },
  {
   "cell_type": "code",
   "execution_count": 122,
   "metadata": {},
   "outputs": [
    {
     "name": "stdout",
     "output_type": "stream",
     "text": [
      "sentence count:  81967\n",
      "avg len:  107.291092757\n",
      "variance:  80.5284544456\n"
     ]
    },
    {
     "data": {
      "image/png": "[encoded data removed]",
      "text/plain": [
       "<matplotlib.figure.Figure at 0x7f5b84ebb710>"
      ]
     },
     "metadata": {},
     "output_type": "display_data"
    },
    {
     "data": {
      "image/png": "[encoded data removed]",
      "text/plain": [
       "<matplotlib.figure.Figure at 0x7f5b814b1cc0>"
      ]
     },
     "metadata": {},
     "output_type": "display_data"
    }
   ],
   "source": [
    "import numpy as np\n",
    "import matplotlib.pyplot as plt\n",
    "%matplotlib inline\n",
    "from IPython.core.pylabtools import figsize\n",
    "figsize(16, 7)\n",
    "lens = [len(sent[0]) for sent in data_with_labels]\n",
    "print(\"sentence count: \", len(lens))\n",
    "print(\"avg len: \", np.average(lens))\n",
    "print(\"variance: \", np.std(lens))\n",
    "\n",
    "bins = np.linspace(0, 500, 500)\n",
    "\n",
    "n, bins, patches = plt.hist(lens, bins, cumulative=True)\n",
    "plt.show()\n",
    "n, bins, patches = plt.hist(lens, bins, cumulative=False)\n",
    "plt.show()\n"
   ]
  },
  {
   "cell_type": "markdown",
   "metadata": {},
   "source": [
    "# Create datasets\n"
   ]
  },
  {
   "cell_type": "code",
   "execution_count": 141,
   "metadata": {},
   "outputs": [],
   "source": [
    "from random import shuffle\n",
    "shuffle(data_with_labels)\n",
    "shuffled = data_with_labels\n",
    "train = shuffled[:int(0.9*len(shuffled))]\n",
    "test = shuffled[int(0.9*len(shuffled)):int(0.95*len(shuffled))]\n",
    "validation = shuffled[int(0.95*len(shuffled)):]\n",
    "\n",
    "crop = 500\n",
    "outdir = \"/mnt/permanent/Home/nessie/velkey/data/\"\n",
    "\n",
    "def list_to_str(lista):\n",
    "    string =\"\"\n",
    "    for item in lista:\n",
    "        string += str(item)\n",
    "    return string\n",
    "\n",
    "with open(outdir + \"train\", 'w') as f:\n",
    "    for data in train:\n",
    "        if crop >= len(data):\n",
    "            f.write(str(data[0] + '\\t' + list_to_str(data[1]) + '\\n'))\n",
    "            \n",
    "with open(outdir + \"test\", 'w') as f:\n",
    "    for data in test:\n",
    "        if crop >= len(data):\n",
    "            f.write(str(data[0] + '\\t' + list_to_str(data[1]) + '\\n'))\n",
    "            \n",
    "with open(outdir + \"validation\", 'w') as f:\n",
    "    for data in validation:\n",
    "        if crop >= len(data):\n",
    "            f.write(str(data[0] + '\\t' + list_to_str(data[1]) + '\\n'))\n",
    "            \n",
    "with open(outdir + \"vocabulary\", 'w') as f:\n",
    "    chars = set()\n",
    "    for s in data_with_labels:\n",
    "        for char in s[0]:\n",
    "            chars.add(char)\n",
    "    f.write(''.join(sorted(list(chars))))\n",
    "    "
   ]
  },
  {
   "cell_type": "markdown",
   "metadata": {},
   "source": [
    "# Label analysis"
   ]
  },
  {
   "cell_type": "code",
   "execution_count": 140,
   "metadata": {},
   "outputs": [
    {
     "name": "stdout",
     "output_type": "stream",
     "text": [
      "Zero fraction in labels:  91.27552539824244 %\n"
     ]
    }
   ],
   "source": [
    "count = 0\n",
    "summed = 0\n",
    "for sent in data_with_labels:\n",
    "    count += len(sent[1])\n",
    "    summed += sum(sent[1])\n",
    "    \n",
    "print(\"Zero fraction in labels: \", (1-(summed/count))*100, \"%\")"
   ]
  }
 ],
 "metadata": {
  "kernelspec": {
   "display_name": "Python 3",
   "language": "python",
   "name": "python3"
  },
  "language_info": {
   "codemirror_mode": {
    "name": "ipython",
    "version": 3
   },
   "file_extension": ".py",
   "mimetype": "text/x-python",
   "name": "python",
   "nbconvert_exporter": "python",
   "pygments_lexer": "ipython3",
   "version": "3.4.2"
  }
 },
 "nbformat": 4,
 "nbformat_minor": 2
}
