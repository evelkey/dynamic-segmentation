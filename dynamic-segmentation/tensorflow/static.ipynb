{
 "cells": [
  {
   "cell_type": "code",
   "execution_count": 1,
   "metadata": {},
   "outputs": [
    {
     "name": "stdout",
     "output_type": "stream",
     "text": [
      "[' ', '!', '\"', '$', '%', '&', \"'\", '(', ')', '+', ',', '-', '.', '/', '0', '1', '2', '3', '4', '5', '6', '7', '8', '9', ';', '?', 'A', 'B', 'C', 'D', 'E', 'F', 'G', 'H', 'I', 'J', 'K', 'L', 'M', 'N', 'O', 'P', 'Q', 'R', 'S', 'T', 'U', 'V', 'W', 'X', 'Y', 'Z', 'a', 'b', 'c', 'd', 'e', 'f', 'g', 'h', 'i', 'j', 'k', 'l', 'm', 'n', 'o', 'p', 'q', 'r', 's', 't', 'u', 'v', 'w', 'x', 'y', 'z', '§', '°', 'Á', 'É', 'Í', 'Ó', 'Ö', 'Ú', 'Ü', 'á', 'ä', 'é', 'ë', 'í', 'ó', 'ö', 'ú', 'ü', 'Ő', 'ő', 'ű']\n"
     ]
    }
   ],
   "source": [
    "import numpy as np\n",
    "import time\n",
    "import data\n",
    "import tqdm\n",
    "import tensorflow as tf\n",
    "config = tf.ConfigProto()\n",
    "config.gpu_options.allow_growth = True\n",
    "sess = tf.InteractiveSession(config=config)\n",
    "import tensorflow_fold as td\n",
    "from conv_lstm_cell import *\n",
    "\n",
    "\n",
    "FLAGS = tf.app.flags.FLAGS\n",
    "tf.app.flags.DEFINE_integer('batch_size',    256, \"\"\"batchsize\"\"\")\n",
    "tf.app.flags.DEFINE_integer('epochs',        10, \"\"\"epoch count\"\"\")\n",
    "tf.app.flags.DEFINE_integer('truncate',      200, \"\"\"truncate input sequences to this length\"\"\")\n",
    "tf.app.flags.DEFINE_string('data_dir',       \"/mnt/permanent/Home/nessie/velkey/data/\", \"\"\"data store basedir\"\"\")\n",
    "tf.app.flags.DEFINE_string('log_dir',        \"/mnt/permanent/Home/nessie/velkey/logs/\", \"\"\"logging directory root\"\"\")\n",
    "tf.app.flags.DEFINE_string('run_name',       \"ce_b256_3x100_static_trun200\", \"\"\"naming: loss_fn, batch size, architecture, optimizer\"\"\")\n",
    "tf.app.flags.DEFINE_string('data_type',      \"sentence/\", \"\"\"can be sentence/, word/\"\"\")\n",
    "tf.app.flags.DEFINE_string('model',          \"lstm\", \"\"\"can be lstm, convlstm\"\"\")\n",
    "tf.app.flags.DEFINE_integer('stack_cells',   2, \"\"\"how many lstms to stack in each dimensions\"\"\")\n",
    "tf.app.flags.DEFINE_integer('cell_size',     1000, \"\"\"only valid with lstm model, size of the LSTM cell\"\"\")\n",
    "tf.app.flags.DEFINE_integer('conv_kernel',   0, \"\"\"convolutional kernel size for convlstm, if 0, vocab size is used\"\"\")\n",
    "tf.app.flags.DEFINE_integer('conv_channels', 64, \"\"\"convolutional output channels for convlstm\"\"\")\n",
    "tf.app.flags.DEFINE_string('loss',           \"crossentropy\", \"\"\"can be l1, l2, crossentropy\"\"\")\n",
    "tf.app.flags.DEFINE_string('optimizer',      \"RMS\", \"\"\"can be ADAM, RMS, SGD\"\"\")\n",
    "tf.app.flags.DEFINE_float('learning_rate',   0.001, \"\"\"starting learning rate\"\"\")\n",
    "\n",
    "\n",
    "vocabulary = data.vocabulary(FLAGS.data_dir + 'vocabulary')\n",
    "vsize=len(vocabulary)\n",
    "print(vocabulary)\n",
    "\n",
    "index = lambda char: vocabulary.index(char)\n",
    "char = lambda i: vocabulary[i]\n",
    "\n",
    "\n",
    "class data():\n",
    "    def __init__(self, folder, truncate):\n",
    "        self.data_dir = folder\n",
    "        self.data = dict()\n",
    "        self.size = dict()\n",
    "        self.datasets = [\"train\", \"test\", \"validation\"]\n",
    "        self.truncate = truncate\n",
    "        \n",
    "        for dataset in self.datasets:\n",
    "            self.data[dataset] = self.sentence_reader(folder+dataset)\n",
    "            self.size[dataset] = sum(1 for line in open(folder+dataset))\n",
    "\n",
    "                        \n",
    "    def sentence_reader(self, file):\n",
    "        \"\"\"\n",
    "        read sentences from the data format setence: sentence\\tlabels\\n\n",
    "        \"\"\"\n",
    "        data = [line[:-1].split('\\t') for line in open(file)]\n",
    "        while True:\n",
    "            for item in data:\n",
    "                tags = [int(num) for num in item[1]]\n",
    "                if len(item[0]) == len(tags) and len(tags) != 0:\n",
    "                    sent_onehot = self.onehot(item[0])\n",
    "                    if len(sent_onehot) >= self.truncate:\n",
    "                        sent_onehot=sent_onehot[:self.truncate]\n",
    "                        tags = tags[:self.truncate]\n",
    "                    yield (sent_onehot, tags)    \n",
    "\n",
    "            \n",
    "    def onehot(self, string):\n",
    "        onehot = np.zeros([len(string),vsize])\n",
    "        indices = np.arange(len(string)), np.array([int(index(char)) for char in string])\n",
    "        onehot[indices]=1\n",
    "        return [onehot[i,:] for i in range(len(onehot))]\n",
    "\n",
    "    \n",
    "def model_information():\n",
    "    total_parameters = 0\n",
    "    for variable in tf.trainable_variables():\n",
    "        # shape is an array of tf.Dimension\n",
    "        shape = variable.get_shape()\n",
    "        print(variable.name, shape)\n",
    "        # print(len(shape))\n",
    "        variable_parametes = 1\n",
    "        for dim in shape:\n",
    "            variable_parametes *= dim.value\n",
    "        print(\"\\tparams: \", variable_parametes)\n",
    "        total_parameters += variable_parametes\n",
    "    print(total_parameters)\n",
    "    return total_parameters"
   ]
  },
  {
   "cell_type": "code",
   "execution_count": 2,
   "metadata": {},
   "outputs": [],
   "source": [
    "store = data(FLAGS.data_dir + FLAGS.data_type, FLAGS.truncate)\n",
    "def pad(record):\n",
    "    pads = ((FLAGS.truncate-len(record[1]), 0), (0, 0))\n",
    "    ins = np.pad(record[0], pad_width=pads, mode=\"constant\", constant_values=0)\n",
    "    outs = np.pad(record[1], pad_width=(FLAGS.truncate-len(record[1]), 0), mode=\"constant\", constant_values=0)\n",
    "    return (ins, outs)\n",
    "\n",
    "def get_padded_batch(dataset=\"train\"):\n",
    "    data = np.zeros([FLAGS.batch_size, FLAGS.truncate, vsize])\n",
    "    labels = np.zeros([FLAGS.batch_size, FLAGS.truncate, 1])\n",
    "    for i in range(FLAGS.batch_size):\n",
    "        sentence, label = pad(next(store.data[dataset]))\n",
    "        data[i] = sentence\n",
    "        labels[i, :, 0] = label\n",
    "    return data, labels"
   ]
  },
  {
   "cell_type": "code",
   "execution_count": 3,
   "metadata": {},
   "outputs": [],
   "source": [
    "x = tf.placeholder(tf.float32, shape=(FLAGS.batch_size, FLAGS.truncate, vsize))\n",
    "y = tf.placeholder(tf.int32, shape=(FLAGS.batch_size, FLAGS.truncate, 1))\n",
    "labels = y\n",
    "\n",
    "num_units = [100, 100, 100]\n",
    "with tf.variable_scope(\"fw\"):\n",
    "    fw_cells = tf.contrib.rnn.MultiRNNCell([tf.contrib.rnn.BasicLSTMCell(num_units=units) for units in num_units])\n",
    "with tf.variable_scope(\"bw\"):\n",
    "    bw_cells = tf.contrib.rnn.MultiRNNCell([tf.contrib.rnn.BasicLSTMCell(num_units=units) for units in num_units])\n",
    "    \n",
    "outputs, states = tf.nn.bidirectional_dynamic_rnn(cell_fw=fw_cells,cell_bw=bw_cells, inputs=x, dtype=tf.float32)\n",
    "\n",
    "RNN_out = tf.concat(outputs, -1)\n",
    "filters = tf.get_variable(shape=[1,200,1], dtype=tf.float32, name=\"filters\")\n",
    "bias = tf.get_variable(shape=[1], dtype=tf.float32, name=\"bias\")\n",
    "\n",
    "logits = tf.nn.conv1d(RNN_out,filters=filters,stride=1,padding='SAME') + bias\n",
    "\n",
    "predictions = tf.nn.sigmoid(logits)"
   ]
  },
  {
   "cell_type": "code",
   "execution_count": 4,
   "metadata": {},
   "outputs": [],
   "source": [
    "valid_chars_in_batch = tf.reduce_sum(x)\n",
    "all_chars_in_batch = tf.size(x) / vsize\n",
    "valid_ratio = valid_chars_in_batch / tf.cast(all_chars_in_batch, tf.float32)\n",
    "\n",
    "l1_loss = tf.reduce_mean(tf.abs(tf.subtract(logits, tf.cast(labels, tf.float32))))\n",
    "l2_loss = tf.reduce_mean(tf.square(tf.subtract(logits, tf.cast(labels, tf.float32))))\n",
    "cross_entropy = tf.reduce_mean(tf.nn.sigmoid_cross_entropy_with_logits(logits=logits, labels=tf.cast(labels, tf.float32)))\n",
    "\n",
    "if FLAGS.loss == \"l1\":\n",
    "    loss = l1_loss\n",
    "elif FLAGS.loss == \"l2\":\n",
    "    loss = l2_loss\n",
    "elif FLAGS.loss == \"crossentropy\":\n",
    "    loss = cross_entropy\n",
    "else:\n",
    "    raise NotImplemented\n",
    "\n",
    "path = FLAGS.log_dir + FLAGS.run_name\n",
    "writer = tf.summary.FileWriter(path, graph=tf.get_default_graph())\n",
    "saver = tf.train.Saver(max_to_keep=20)\n",
    "tf.summary.scalar(\"batch_loss\", loss)\n",
    "\n",
    "def metrics(probs, labels, x):\n",
    "    labels = tf.cast(labels, tf.int32)\n",
    "    predicted = tf.cast(tf.less(0.5, probs),tf.int32)\n",
    "    length = tf.reduce_sum(x)\n",
    "    \n",
    "    #crop the sequences:\n",
    "    labels = labels\n",
    "    \n",
    "    TP = tf.count_nonzero(predicted * labels)\n",
    "    TN = tf.count_nonzero((predicted - 1) * (labels - 1))\n",
    "    FP = tf.count_nonzero(predicted * (labels - 1))\n",
    "    FN = tf.count_nonzero((predicted - 1) * labels)\n",
    "    precision = TP / (TP + FP)\n",
    "    recall = TP / (TP + FN)\n",
    "    f1 = 2 * precision * recall / (precision + recall)\n",
    "                          \n",
    "    accuracy = tf.cast(tf.count_nonzero(tf.equal(predicted, labels)), tf.float32) / tf.cast(tf.size(labels), tf.float32) * 100\n",
    "         \n",
    "    return precision, recall, accuracy, f1\n",
    "    \n",
    "precision, recall, accuracy, f1 = metrics(predictions, labels,x)\n",
    "tf.summary.scalar(\"accuracy\", accuracy)\n",
    "tf.summary.scalar(\"precision\", precision)\n",
    "tf.summary.scalar(\"recall\", recall)\n",
    "tf.summary.scalar(\"f1\", f1)\n",
    "         \n",
    "summary_op = tf.summary.merge_all()\n",
    "\n",
    "if FLAGS.optimizer == \"ADAM\":\n",
    "    opt = tf.train.AdamOptimizer(learning_rate=FLAGS.learning_rate)\n",
    "elif FLAGS.optimizer == \"RMS\":\n",
    "    opt = tf.train.RMSPropOptimizer(learning_rate=FLAGS.learning_rate)\n",
    "elif FLAGS.optimizer == \"SGD\":\n",
    "    opt = tf.train.GradientDescentOptimizer(learning_rate=FLAGS.learning_rate)\n",
    "else:\n",
    "    raise NotImplemented\n",
    "\n",
    "train_op = opt.minimize(loss)\n",
    "tf.global_variables_initializer()\n",
    "\n",
    "validation_loss_placeholder = tf.placeholder(tf.float32, name=\"validation\")\n",
    "validation_loss_summary = tf.summary.scalar('validation_loss', validation_loss_placeholder)\n",
    "validation_accuracy_placeholder = tf.placeholder(tf.float32, name=\"validation_accuracy\")\n",
    "validation_accuracy_summary = tf.summary.scalar('validation_accuracy', validation_accuracy_placeholder)\n",
    "validation_f1_placeholder = tf.placeholder(tf.float32, name=\"validation_f1\")\n",
    "validation_f1_summary = tf.summary.scalar('validation_f1', validation_f1_placeholder)\n",
    "test_loss_placeholder = tf.placeholder(tf.float32, name=\"test\")\n",
    "test_loss_summary = tf.summary.scalar('test_loss', test_loss_placeholder)\n",
    "test_f1_placeholder = tf.placeholder(tf.float32, name=\"test_f1\")\n",
    "test_f1_summary = tf.summary.scalar('test_f1', test_f1_placeholder)\n",
    "test_accuracy_placeholder = tf.placeholder(tf.float32, name=\"test_accuracy\")\n",
    "test_accuracy_summary = tf.summary.scalar('test_accuracy', test_accuracy_placeholder)\n",
    "\n",
    "def get_metrics_on_dataset(dataset, train_step):\n",
    "    losses = []\n",
    "    accs = []\n",
    "    recalls = []\n",
    "    f1s = []\n",
    "    step = int(store.size[dataset] / FLAGS.batch_size)\n",
    "    for i in tqdm.trange(step):\n",
    "        x_, y_ = get_padded_batch(dataset)\n",
    "        feed = {\n",
    "            x: x_,\n",
    "            y: y_}\n",
    "        batch_loss, acc, rec, f = sess.run([loss, accuracy, recall, f1],feed_dict=feed)\n",
    "        losses.append(batch_loss)\n",
    "        accs.append(acc)\n",
    "        recalls.append(rec)\n",
    "        f1s.append(f)\n",
    "    \n",
    "    l, a, r, f = np.average(losses), np.average(accs), np.average(recalls), np.average(f1s)\n",
    "    \n",
    "    if dataset == \"validation\":\n",
    "        feed = {validation_loss_placeholder: l,\n",
    "                validation_accuracy_placeholder: float(a),\n",
    "                validation_f1_placeholder: f}\n",
    "        vl, va, vf = sess.run([validation_loss_summary, validation_accuracy_summary, validation_f1_summary],feed_dict=feed)\n",
    "        writer.add_summary(vl, train_step)\n",
    "        writer.add_summary(va, train_step)\n",
    "        writer.add_summary(vf, train_step)\n",
    "    elif dataset == \"test\":\n",
    "        feed = {test_loss_placeholder: l,\n",
    "                test_accuracy_placeholder: float(a),\n",
    "                test_f1_placeholder: f}\n",
    "        vl, va, vf = sess.run([test_loss_summary, test_accuracy_summary, test_f1_summary],feed_dict=feed)\n",
    "        writer.add_summary(vl, train_step)\n",
    "        writer.add_summary(va, train_step)\n",
    "        writer.add_summary(vf, train_step)\n",
    "        writer.flush()\n",
    "\n",
    "    return l,a,r,f\n",
    "    \n",
    "    \n",
    "class stopper():\n",
    "    def __init__(self, patience=20):\n",
    "        self.log = []\n",
    "        self.patience = patience\n",
    "        self.should_stop = False\n",
    "        \n",
    "    def add(self, value):\n",
    "        self.log.append(value)\n",
    "        return self.check()\n",
    "    \n",
    "    def check(self):\n",
    "        minimum = min(self.log)\n",
    "        errors = sum([1 if i>minimum else 0 for i in self.log[self.log.index(minimum):]])\n",
    "        if errors > self.patience:\n",
    "            self.should_stop = True\n",
    "        return self.should_stop\n",
    "    \n",
    "early = stopper(20)\n",
    "steps = FLAGS.epochs * int(store.size[\"train\"] / FLAGS.batch_size)"
   ]
  },
  {
   "cell_type": "code",
   "execution_count": 5,
   "metadata": {
    "scrolled": true
   },
   "outputs": [
    {
     "name": "stderr",
     "output_type": "stream",
     "text": [
      "  0%|          | 0/2830 [00:00<?, ?batches/s]\n",
      "  0%|          | 0/15 [00:00<?, ?it/s]\u001b[A\n",
      "  7%|▋         | 1/15 [00:00<00:03,  4.46it/s]\u001b[A\n",
      " 13%|█▎        | 2/15 [00:00<00:02,  5.02it/s]\u001b[A\n",
      " 20%|██        | 3/15 [00:00<00:02,  5.33it/s]\u001b[A\n",
      " 27%|██▋       | 4/15 [00:00<00:02,  5.44it/s]\u001b[A\n",
      " 33%|███▎      | 5/15 [00:00<00:01,  5.54it/s]\u001b[A\n",
      " 40%|████      | 6/15 [00:01<00:01,  5.58it/s]\u001b[A\n",
      " 47%|████▋     | 7/15 [00:01<00:01,  5.64it/s]\u001b[A\n",
      " 53%|█████▎    | 8/15 [00:01<00:01,  5.54it/s]\u001b[A\n",
      " 60%|██████    | 9/15 [00:01<00:01,  5.60it/s]\u001b[A\n",
      " 67%|██████▋   | 10/15 [00:01<00:00,  5.53it/s]\u001b[A\n",
      " 73%|███████▎  | 11/15 [00:01<00:00,  5.58it/s]\u001b[A\n",
      " 80%|████████  | 12/15 [00:02<00:00,  5.51it/s]\u001b[A\n",
      " 87%|████████▋ | 13/15 [00:02<00:00,  5.55it/s]\u001b[A\n",
      " 93%|█████████▎| 14/15 [00:02<00:00,  5.57it/s]\u001b[A\n",
      "100%|██████████| 15/15 [00:02<00:00,  5.60it/s]\u001b[A\n",
      "\u001b[A"
     ]
    },
    {
     "name": "stdout",
     "output_type": "stream",
     "text": [
      "loss:  0.949022  accuracy:  4.28411 % recall:  1.0 fscore:  0.0821581183543\n"
     ]
    },
    {
     "name": "stderr",
     "output_type": "stream",
     "text": [
      "  5%|▍         | 141/2830 [00:56<17:48,  2.52batches/s]\n",
      "  0%|          | 0/15 [00:00<?, ?it/s]\u001b[A\n",
      "  7%|▋         | 1/15 [00:00<00:02,  5.71it/s]\u001b[A\n",
      " 13%|█▎        | 2/15 [00:00<00:02,  5.29it/s]\u001b[A\n",
      " 20%|██        | 3/15 [00:00<00:02,  5.48it/s]\u001b[A\n",
      " 27%|██▋       | 4/15 [00:00<00:01,  5.55it/s]\u001b[A\n",
      " 33%|███▎      | 5/15 [00:00<00:01,  5.41it/s]\u001b[A\n",
      " 40%|████      | 6/15 [00:01<00:01,  5.34it/s]\u001b[A\n",
      " 47%|████▋     | 7/15 [00:01<00:01,  5.40it/s]\u001b[A\n",
      " 53%|█████▎    | 8/15 [00:01<00:01,  5.45it/s]\u001b[A\n",
      " 60%|██████    | 9/15 [00:01<00:01,  5.48it/s]\u001b[A\n",
      " 67%|██████▋   | 10/15 [00:01<00:00,  5.50it/s]\u001b[A\n",
      " 73%|███████▎  | 11/15 [00:02<00:00,  5.45it/s]\u001b[A\n",
      " 80%|████████  | 12/15 [00:02<00:00,  5.47it/s]\u001b[A\n",
      " 87%|████████▋ | 13/15 [00:02<00:00,  5.41it/s]\u001b[A\n",
      " 93%|█████████▎| 14/15 [00:02<00:00,  5.44it/s]\u001b[A\n",
      "100%|██████████| 15/15 [00:02<00:00,  5.46it/s]\u001b[A\n",
      "\u001b[A"
     ]
    },
    {
     "name": "stdout",
     "output_type": "stream",
     "text": [
      "loss:  0.17357  accuracy:  95.7021 % recall:  0.0 fscore:  nan\n"
     ]
    },
    {
     "name": "stderr",
     "output_type": "stream",
     "text": [
      " 10%|▉         | 282/2830 [01:52<16:52,  2.52batches/s]\n",
      "  0%|          | 0/15 [00:00<?, ?it/s]\u001b[A\n",
      "  7%|▋         | 1/15 [00:00<00:02,  5.76it/s]\u001b[A\n",
      " 13%|█▎        | 2/15 [00:00<00:02,  5.66it/s]\u001b[A\n",
      " 20%|██        | 3/15 [00:00<00:02,  5.68it/s]\u001b[A\n",
      " 27%|██▋       | 4/15 [00:00<00:01,  5.71it/s]\u001b[A\n",
      " 33%|███▎      | 5/15 [00:00<00:01,  5.52it/s]\u001b[A\n",
      " 40%|████      | 6/15 [00:01<00:01,  5.41it/s]\u001b[A\n",
      " 47%|████▋     | 7/15 [00:01<00:01,  5.44it/s]\u001b[A\n",
      " 53%|█████▎    | 8/15 [00:01<00:01,  5.47it/s]\u001b[A\n",
      " 60%|██████    | 9/15 [00:01<00:01,  5.50it/s]\u001b[A\n",
      " 67%|██████▋   | 10/15 [00:01<00:00,  5.52it/s]\u001b[A\n",
      " 73%|███████▎  | 11/15 [00:01<00:00,  5.54it/s]\u001b[A\n",
      " 80%|████████  | 12/15 [00:02<00:00,  5.48it/s]\u001b[A\n",
      " 87%|████████▋ | 13/15 [00:02<00:00,  5.50it/s]\u001b[A\n",
      " 93%|█████████▎| 14/15 [00:02<00:00,  5.51it/s]\u001b[A\n",
      "100%|██████████| 15/15 [00:02<00:00,  5.52it/s]\u001b[A\n",
      "\u001b[A"
     ]
    },
    {
     "name": "stdout",
     "output_type": "stream",
     "text": [
      "loss:  0.136227  accuracy:  95.6681 % recall:  0.000246579329346 fscore:  nan\n"
     ]
    },
    {
     "name": "stderr",
     "output_type": "stream",
     "text": [
      " 15%|█▍        | 423/2830 [02:48<16:00,  2.51batches/s]\n",
      "  0%|          | 0/15 [00:00<?, ?it/s]\u001b[A\n",
      "  7%|▋         | 1/15 [00:00<00:02,  5.95it/s]\u001b[A\n",
      " 13%|█▎        | 2/15 [00:00<00:02,  5.74it/s]\u001b[A\n",
      " 20%|██        | 3/15 [00:00<00:02,  5.71it/s]\u001b[A\n",
      " 27%|██▋       | 4/15 [00:00<00:01,  5.70it/s]\u001b[A\n",
      " 33%|███▎      | 5/15 [00:00<00:01,  5.50it/s]\u001b[A\n",
      " 40%|████      | 6/15 [00:01<00:01,  5.54it/s]\u001b[A\n",
      " 47%|████▋     | 7/15 [00:01<00:01,  5.55it/s]\u001b[A\n",
      " 53%|█████▎    | 8/15 [00:01<00:01,  5.56it/s]\u001b[A\n",
      " 60%|██████    | 9/15 [00:01<00:01,  5.58it/s]\u001b[A\n",
      " 67%|██████▋   | 10/15 [00:01<00:00,  5.59it/s]\u001b[A\n",
      " 73%|███████▎  | 11/15 [00:01<00:00,  5.60it/s]\u001b[A\n",
      " 80%|████████  | 12/15 [00:02<00:00,  5.60it/s]\u001b[A\n",
      " 87%|████████▋ | 13/15 [00:02<00:00,  5.61it/s]\u001b[A\n",
      " 93%|█████████▎| 14/15 [00:02<00:00,  5.55it/s]\u001b[A\n",
      "100%|██████████| 15/15 [00:02<00:00,  5.56it/s]\u001b[A\n",
      "\u001b[A"
     ]
    },
    {
     "name": "stdout",
     "output_type": "stream",
     "text": [
      "loss:  0.0851624  accuracy:  96.8341 % recall:  0.442169593598 fscore:  0.545521054064\n"
     ]
    },
    {
     "name": "stderr",
     "output_type": "stream",
     "text": [
      " 20%|█▉        | 564/2830 [03:45<15:04,  2.50batches/s]\n",
      "  0%|          | 0/15 [00:00<?, ?it/s]\u001b[A\n",
      "  7%|▋         | 1/15 [00:00<00:02,  5.81it/s]\u001b[A\n",
      " 13%|█▎        | 2/15 [00:00<00:02,  5.76it/s]\u001b[A\n",
      " 20%|██        | 3/15 [00:00<00:02,  5.70it/s]\u001b[A\n",
      " 27%|██▋       | 4/15 [00:00<00:01,  5.67it/s]\u001b[A\n",
      " 33%|███▎      | 5/15 [00:00<00:01,  5.69it/s]\u001b[A\n",
      " 40%|████      | 6/15 [00:01<00:01,  5.58it/s]\u001b[A\n",
      " 47%|████▋     | 7/15 [00:01<00:01,  5.47it/s]\u001b[A\n",
      " 53%|█████▎    | 8/15 [00:01<00:01,  5.40it/s]\u001b[A\n",
      " 60%|██████    | 9/15 [00:01<00:01,  5.34it/s]\u001b[A\n",
      " 67%|██████▋   | 10/15 [00:01<00:00,  5.38it/s]\u001b[A\n",
      " 73%|███████▎  | 11/15 [00:02<00:00,  5.41it/s]\u001b[A\n",
      " 80%|████████  | 12/15 [00:02<00:00,  5.44it/s]\u001b[A\n",
      " 87%|████████▋ | 13/15 [00:02<00:00,  5.46it/s]\u001b[A\n",
      " 93%|█████████▎| 14/15 [00:02<00:00,  5.47it/s]\u001b[A\n",
      "100%|██████████| 15/15 [00:02<00:00,  5.42it/s]\u001b[A\n",
      "\u001b[A"
     ]
    },
    {
     "name": "stdout",
     "output_type": "stream",
     "text": [
      "loss:  0.069306  accuracy:  97.2076 % recall:  0.418239298295 fscore:  0.56281144388\n"
     ]
    },
    {
     "name": "stderr",
     "output_type": "stream",
     "text": [
      " 25%|██▍       | 705/2830 [04:42<14:10,  2.50batches/s]\n",
      "  0%|          | 0/15 [00:00<?, ?it/s]\u001b[A\n",
      "  7%|▋         | 1/15 [00:00<00:02,  5.82it/s]\u001b[A\n",
      " 13%|█▎        | 2/15 [00:00<00:02,  5.77it/s]\u001b[A\n",
      " 20%|██        | 3/15 [00:00<00:02,  5.72it/s]\u001b[A\n",
      " 27%|██▋       | 4/15 [00:00<00:02,  5.44it/s]\u001b[A\n",
      " 33%|███▎      | 5/15 [00:00<00:01,  5.49it/s]\u001b[A\n",
      " 40%|████      | 6/15 [00:01<00:01,  5.53it/s]\u001b[A\n",
      " 47%|████▋     | 7/15 [00:01<00:01,  5.55it/s]\u001b[A\n",
      " 53%|█████▎    | 8/15 [00:01<00:01,  5.45it/s]\u001b[A\n",
      " 60%|██████    | 9/15 [00:01<00:01,  5.48it/s]\u001b[A\n",
      " 67%|██████▋   | 10/15 [00:01<00:00,  5.50it/s]\u001b[A\n",
      " 73%|███████▎  | 11/15 [00:01<00:00,  5.52it/s]\u001b[A\n",
      " 80%|████████  | 12/15 [00:02<00:00,  5.53it/s]\u001b[A\n",
      " 87%|████████▋ | 13/15 [00:02<00:00,  5.53it/s]\u001b[A\n",
      " 93%|█████████▎| 14/15 [00:02<00:00,  5.54it/s]\u001b[A\n",
      "100%|██████████| 15/15 [00:02<00:00,  5.55it/s]\u001b[A\n",
      "\u001b[A"
     ]
    },
    {
     "name": "stdout",
     "output_type": "stream",
     "text": [
      "loss:  0.0587981  accuracy:  97.8023 % recall:  0.669791676403 fscore:  0.72342634358\n"
     ]
    },
    {
     "name": "stderr",
     "output_type": "stream",
     "text": [
      " 30%|██▉       | 846/2830 [05:38<13:14,  2.50batches/s]\n",
      "  0%|          | 0/15 [00:00<?, ?it/s]\u001b[A\n",
      "  7%|▋         | 1/15 [00:00<00:02,  5.81it/s]\u001b[A\n",
      " 13%|█▎        | 2/15 [00:00<00:02,  5.31it/s]\u001b[A\n",
      " 20%|██        | 3/15 [00:00<00:02,  5.47it/s]\u001b[A\n",
      " 27%|██▋       | 4/15 [00:00<00:02,  5.29it/s]\u001b[A\n",
      " 33%|███▎      | 5/15 [00:00<00:01,  5.36it/s]\u001b[A\n",
      " 40%|████      | 6/15 [00:01<00:01,  5.42it/s]\u001b[A\n",
      " 47%|████▋     | 7/15 [00:01<00:01,  5.47it/s]\u001b[A\n",
      " 53%|█████▎    | 8/15 [00:01<00:01,  5.50it/s]\u001b[A\n",
      " 60%|██████    | 9/15 [00:01<00:01,  5.42it/s]\u001b[A\n",
      " 67%|██████▋   | 10/15 [00:01<00:00,  5.45it/s]\u001b[A\n",
      " 73%|███████▎  | 11/15 [00:02<00:00,  5.48it/s]\u001b[A\n",
      " 80%|████████  | 12/15 [00:02<00:00,  5.50it/s]\u001b[A\n",
      " 87%|████████▋ | 13/15 [00:02<00:00,  5.51it/s]\u001b[A\n",
      " 93%|█████████▎| 14/15 [00:02<00:00,  5.52it/s]\u001b[A\n",
      "100%|██████████| 15/15 [00:02<00:00,  5.53it/s]\u001b[A\n",
      "\u001b[A"
     ]
    },
    {
     "name": "stdout",
     "output_type": "stream",
     "text": [
      "loss:  0.0520157  accuracy:  98.0947 % recall:  0.736205362651 fscore:  0.767968732717\n"
     ]
    },
    {
     "name": "stderr",
     "output_type": "stream",
     "text": [
      " 35%|███▍      | 987/2830 [06:34<12:17,  2.50batches/s]\n",
      "  0%|          | 0/15 [00:00<?, ?it/s]\u001b[A\n",
      "  7%|▋         | 1/15 [00:00<00:02,  5.75it/s]\u001b[A\n",
      " 13%|█▎        | 2/15 [00:00<00:02,  5.75it/s]\u001b[A\n",
      " 20%|██        | 3/15 [00:00<00:02,  5.70it/s]\u001b[A\n",
      " 27%|██▋       | 4/15 [00:00<00:01,  5.72it/s]\u001b[A\n",
      " 33%|███▎      | 5/15 [00:00<00:01,  5.67it/s]\u001b[A\n",
      " 40%|████      | 6/15 [00:01<00:01,  5.67it/s]\u001b[A\n",
      " 47%|████▋     | 7/15 [00:01<00:01,  5.68it/s]\u001b[A\n",
      " 53%|█████▎    | 8/15 [00:01<00:01,  5.69it/s]\u001b[A\n",
      " 60%|██████    | 9/15 [00:01<00:01,  5.70it/s]\u001b[A\n",
      " 67%|██████▋   | 10/15 [00:01<00:00,  5.70it/s]\u001b[A\n",
      " 73%|███████▎  | 11/15 [00:01<00:00,  5.70it/s]\u001b[A\n",
      " 80%|████████  | 12/15 [00:02<00:00,  5.70it/s]\u001b[A\n",
      " 87%|████████▋ | 13/15 [00:02<00:00,  5.63it/s]\u001b[A\n",
      " 93%|█████████▎| 14/15 [00:02<00:00,  5.64it/s]\u001b[A\n",
      "100%|██████████| 15/15 [00:02<00:00,  5.64it/s]\u001b[A\n",
      "\u001b[A"
     ]
    },
    {
     "name": "stdout",
     "output_type": "stream",
     "text": [
      "loss:  0.0477083  accuracy:  98.2333 % recall:  0.663683931474 fscore:  0.763796624718\n"
     ]
    },
    {
     "name": "stderr",
     "output_type": "stream",
     "text": [
      " 40%|███▉      | 1128/2830 [07:31<11:21,  2.50batches/s]\n",
      "  0%|          | 0/15 [00:00<?, ?it/s]\u001b[A\n",
      "  7%|▋         | 1/15 [00:00<00:02,  5.85it/s]\u001b[A\n",
      " 13%|█▎        | 2/15 [00:00<00:02,  5.76it/s]\u001b[A\n",
      " 20%|██        | 3/15 [00:00<00:02,  5.72it/s]\u001b[A\n",
      " 27%|██▋       | 4/15 [00:00<00:01,  5.71it/s]\u001b[A\n",
      " 33%|███▎      | 5/15 [00:00<00:01,  5.70it/s]\u001b[A\n",
      " 40%|████      | 6/15 [00:01<00:01,  5.64it/s]\u001b[A\n",
      " 47%|████▋     | 7/15 [00:01<00:01,  5.51it/s]\u001b[A\n",
      " 53%|█████▎    | 8/15 [00:01<00:01,  5.54it/s]\u001b[A\n",
      " 60%|██████    | 9/15 [00:01<00:01,  5.56it/s]\u001b[A\n",
      " 67%|██████▋   | 10/15 [00:01<00:00,  5.57it/s]\u001b[A\n",
      " 73%|███████▎  | 11/15 [00:01<00:00,  5.58it/s]\u001b[A\n",
      " 80%|████████  | 12/15 [00:02<00:00,  5.59it/s]\u001b[A\n",
      " 87%|████████▋ | 13/15 [00:02<00:00,  5.59it/s]\u001b[A\n",
      " 93%|█████████▎| 14/15 [00:02<00:00,  5.59it/s]\u001b[A\n",
      "100%|██████████| 15/15 [00:02<00:00,  5.54it/s]\u001b[A\n",
      "\u001b[A"
     ]
    },
    {
     "name": "stdout",
     "output_type": "stream",
     "text": [
      "loss:  0.0469427  accuracy:  98.2611 % recall:  0.644521712691 fscore:  0.760932016364\n"
     ]
    },
    {
     "name": "stderr",
     "output_type": "stream",
     "text": [
      " 45%|████▍     | 1269/2830 [08:28<10:24,  2.50batches/s]\n",
      "  0%|          | 0/15 [00:00<?, ?it/s]\u001b[A\n",
      "  7%|▋         | 1/15 [00:00<00:02,  5.83it/s]\u001b[A\n",
      " 13%|█▎        | 2/15 [00:00<00:02,  5.75it/s]\u001b[A\n",
      " 20%|██        | 3/15 [00:00<00:02,  5.70it/s]\u001b[A\n",
      " 27%|██▋       | 4/15 [00:00<00:01,  5.69it/s]\u001b[A\n",
      " 33%|███▎      | 5/15 [00:00<00:01,  5.70it/s]\u001b[A\n",
      " 40%|████      | 6/15 [00:01<00:01,  5.68it/s]\u001b[A\n",
      " 47%|████▋     | 7/15 [00:01<00:01,  5.63it/s]\u001b[A\n",
      " 53%|█████▎    | 8/15 [00:01<00:01,  5.53it/s]\u001b[A\n",
      " 60%|██████    | 9/15 [00:01<00:01,  5.55it/s]\u001b[A\n",
      " 67%|██████▋   | 10/15 [00:01<00:00,  5.48it/s]\u001b[A\n",
      " 73%|███████▎  | 11/15 [00:02<00:00,  5.41it/s]\u001b[A\n",
      " 80%|████████  | 12/15 [00:02<00:00,  5.43it/s]\u001b[A\n",
      " 87%|████████▋ | 13/15 [00:02<00:00,  5.39it/s]\u001b[A\n",
      " 93%|█████████▎| 14/15 [00:02<00:00,  5.35it/s]\u001b[A\n",
      "100%|██████████| 15/15 [00:02<00:00,  5.38it/s]\u001b[A\n",
      "\u001b[A"
     ]
    },
    {
     "name": "stdout",
     "output_type": "stream",
     "text": [
      "loss:  0.0446606  accuracy:  98.3432 % recall:  0.658688688663 fscore:  0.773453802599\n"
     ]
    },
    {
     "name": "stderr",
     "output_type": "stream",
     "text": [
      " 50%|████▉     | 1410/2830 [09:24<09:28,  2.50batches/s]\n",
      "  0%|          | 0/15 [00:00<?, ?it/s]\u001b[A\n",
      "  7%|▋         | 1/15 [00:00<00:02,  5.78it/s]\u001b[A\n",
      " 13%|█▎        | 2/15 [00:00<00:02,  5.75it/s]\u001b[A\n",
      " 20%|██        | 3/15 [00:00<00:02,  5.70it/s]\u001b[A\n",
      " 27%|██▋       | 4/15 [00:00<00:01,  5.68it/s]\u001b[A\n",
      " 33%|███▎      | 5/15 [00:00<00:01,  5.68it/s]\u001b[A\n",
      " 40%|████      | 6/15 [00:01<00:01,  5.55it/s]\u001b[A\n",
      " 47%|████▋     | 7/15 [00:01<00:01,  5.56it/s]\u001b[A\n",
      " 53%|█████▎    | 8/15 [00:01<00:01,  5.57it/s]\u001b[A\n",
      " 60%|██████    | 9/15 [00:01<00:01,  5.58it/s]\u001b[A\n",
      " 67%|██████▋   | 10/15 [00:01<00:00,  5.51it/s]\u001b[A\n",
      " 73%|███████▎  | 11/15 [00:01<00:00,  5.53it/s]\u001b[A\n",
      " 80%|████████  | 12/15 [00:02<00:00,  5.54it/s]\u001b[A\n",
      " 87%|████████▋ | 13/15 [00:02<00:00,  5.56it/s]\u001b[A\n",
      " 93%|█████████▎| 14/15 [00:02<00:00,  5.56it/s]\u001b[A\n",
      "100%|██████████| 15/15 [00:02<00:00,  5.57it/s]\u001b[A\n",
      "\u001b[A"
     ]
    },
    {
     "name": "stdout",
     "output_type": "stream",
     "text": [
      "loss:  0.0398408  accuracy:  98.5483 % recall:  0.832178054669 fscore:  0.831557974683\n"
     ]
    },
    {
     "name": "stderr",
     "output_type": "stream",
     "text": [
      " 55%|█████▍    | 1551/2830 [10:21<08:32,  2.50batches/s]\n",
      "  0%|          | 0/15 [00:00<?, ?it/s]\u001b[A\n",
      "  7%|▋         | 1/15 [00:00<00:02,  4.98it/s]\u001b[A\n",
      " 13%|█▎        | 2/15 [00:00<00:02,  5.30it/s]\u001b[A\n",
      " 20%|██        | 3/15 [00:00<00:02,  5.43it/s]\u001b[A\n",
      " 27%|██▋       | 4/15 [00:00<00:02,  5.48it/s]\u001b[A\n",
      " 33%|███▎      | 5/15 [00:00<00:01,  5.53it/s]\u001b[A\n",
      " 40%|████      | 6/15 [00:01<00:01,  5.55it/s]\u001b[A\n",
      " 47%|████▋     | 7/15 [00:01<00:01,  5.57it/s]\u001b[A\n",
      " 53%|█████▎    | 8/15 [00:01<00:01,  5.57it/s]\u001b[A\n",
      " 60%|██████    | 9/15 [00:01<00:01,  5.58it/s]\u001b[A\n",
      " 67%|██████▋   | 10/15 [00:01<00:00,  5.50it/s]\u001b[A\n",
      " 73%|███████▎  | 11/15 [00:01<00:00,  5.53it/s]\u001b[A\n",
      " 80%|████████  | 12/15 [00:02<00:00,  5.48it/s]\u001b[A\n",
      " 87%|████████▋ | 13/15 [00:02<00:00,  5.50it/s]\u001b[A\n",
      " 93%|█████████▎| 14/15 [00:02<00:00,  5.51it/s]\u001b[A\n",
      "100%|██████████| 15/15 [00:02<00:00,  5.52it/s]\u001b[A\n",
      "\u001b[A"
     ]
    },
    {
     "name": "stdout",
     "output_type": "stream",
     "text": [
      "loss:  0.0377816  accuracy:  98.6289 % recall:  0.733767332625 fscore:  0.821766426054\n"
     ]
    },
    {
     "name": "stderr",
     "output_type": "stream",
     "text": [
      " 60%|█████▉    | 1692/2830 [11:18<07:36,  2.49batches/s]\n",
      "  0%|          | 0/15 [00:00<?, ?it/s]\u001b[A\n",
      "  7%|▋         | 1/15 [00:00<00:02,  5.86it/s]\u001b[A\n",
      " 13%|█▎        | 2/15 [00:00<00:02,  5.78it/s]\u001b[A\n",
      " 20%|██        | 3/15 [00:00<00:02,  5.45it/s]\u001b[A\n",
      " 27%|██▋       | 4/15 [00:00<00:01,  5.52it/s]\u001b[A\n",
      " 33%|███▎      | 5/15 [00:00<00:01,  5.54it/s]\u001b[A\n",
      " 40%|████      | 6/15 [00:01<00:01,  5.56it/s]\u001b[A\n",
      " 47%|████▋     | 7/15 [00:01<00:01,  5.58it/s]\u001b[A\n",
      " 53%|█████▎    | 8/15 [00:01<00:01,  5.59it/s]\u001b[A\n",
      " 60%|██████    | 9/15 [00:01<00:01,  5.58it/s]\u001b[A\n",
      " 67%|██████▋   | 10/15 [00:01<00:00,  5.60it/s]\u001b[A\n",
      " 73%|███████▎  | 11/15 [00:01<00:00,  5.61it/s]\u001b[A\n",
      " 80%|████████  | 12/15 [00:02<00:00,  5.62it/s]\u001b[A\n",
      " 87%|████████▋ | 13/15 [00:02<00:00,  5.62it/s]\u001b[A\n",
      " 93%|█████████▎| 14/15 [00:02<00:00,  5.63it/s]\u001b[A\n",
      "100%|██████████| 15/15 [00:02<00:00,  5.64it/s]\u001b[A\n",
      "\u001b[A"
     ]
    },
    {
     "name": "stdout",
     "output_type": "stream",
     "text": [
      "loss:  0.0344003  accuracy:  98.7712 % recall:  0.854603138962 fscore:  0.857103888945\n"
     ]
    },
    {
     "name": "stderr",
     "output_type": "stream",
     "text": [
      " 65%|██████▍   | 1833/2830 [12:14<06:39,  2.49batches/s]\n",
      "  0%|          | 0/15 [00:00<?, ?it/s]\u001b[A\n",
      "  7%|▋         | 1/15 [00:00<00:02,  5.78it/s]\u001b[A\n",
      " 13%|█▎        | 2/15 [00:00<00:02,  5.73it/s]\u001b[A\n",
      " 20%|██        | 3/15 [00:00<00:02,  5.72it/s]\u001b[A\n",
      " 27%|██▋       | 4/15 [00:00<00:01,  5.72it/s]\u001b[A\n",
      " 33%|███▎      | 5/15 [00:00<00:01,  5.71it/s]\u001b[A\n",
      " 40%|████      | 6/15 [00:01<00:01,  5.69it/s]\u001b[A\n",
      " 47%|████▋     | 7/15 [00:01<00:01,  5.69it/s]\u001b[A\n",
      " 53%|█████▎    | 8/15 [00:01<00:01,  5.70it/s]\u001b[A\n",
      " 60%|██████    | 9/15 [00:01<00:01,  5.68it/s]\u001b[A\n",
      " 67%|██████▋   | 10/15 [00:01<00:00,  5.67it/s]\u001b[A\n",
      " 73%|███████▎  | 11/15 [00:01<00:00,  5.68it/s]\u001b[A\n",
      " 80%|████████  | 12/15 [00:02<00:00,  5.68it/s]\u001b[A\n",
      " 87%|████████▋ | 13/15 [00:02<00:00,  5.68it/s]\u001b[A\n",
      " 93%|█████████▎| 14/15 [00:02<00:00,  5.68it/s]\u001b[A\n",
      "100%|██████████| 15/15 [00:02<00:00,  5.68it/s]\u001b[A\n",
      "\u001b[A"
     ]
    },
    {
     "name": "stdout",
     "output_type": "stream",
     "text": [
      "loss:  0.035397  accuracy:  98.7279 % recall:  0.746627604429 fscore:  0.83483295719\n"
     ]
    },
    {
     "name": "stderr",
     "output_type": "stream",
     "text": [
      " 70%|██████▉   | 1974/2830 [13:11<05:43,  2.49batches/s]\n",
      "  0%|          | 0/15 [00:00<?, ?it/s]\u001b[A\n",
      "  7%|▋         | 1/15 [00:00<00:02,  5.85it/s]\u001b[A\n",
      " 13%|█▎        | 2/15 [00:00<00:02,  5.75it/s]\u001b[A\n",
      " 20%|██        | 3/15 [00:00<00:02,  5.43it/s]\u001b[A\n",
      " 27%|██▋       | 4/15 [00:00<00:02,  5.50it/s]\u001b[A\n",
      " 33%|███▎      | 5/15 [00:00<00:01,  5.36it/s]\u001b[A\n",
      " 40%|████      | 6/15 [00:01<00:01,  5.26it/s]\u001b[A\n",
      " 47%|████▋     | 7/15 [00:01<00:01,  5.33it/s]\u001b[A\n",
      " 53%|█████▎    | 8/15 [00:01<00:01,  5.27it/s]\u001b[A\n",
      " 60%|██████    | 9/15 [00:01<00:01,  5.33it/s]\u001b[A\n",
      " 67%|██████▋   | 10/15 [00:01<00:00,  5.35it/s]\u001b[A\n",
      " 73%|███████▎  | 11/15 [00:02<00:00,  5.37it/s]\u001b[A\n",
      " 80%|████████  | 12/15 [00:02<00:00,  5.33it/s]\u001b[A\n",
      " 87%|████████▋ | 13/15 [00:02<00:00,  5.36it/s]\u001b[A\n",
      " 93%|█████████▎| 14/15 [00:02<00:00,  5.39it/s]\u001b[A\n",
      "100%|██████████| 15/15 [00:02<00:00,  5.40it/s]\u001b[A\n",
      "\u001b[A"
     ]
    },
    {
     "name": "stdout",
     "output_type": "stream",
     "text": [
      "loss:  0.0317423  accuracy:  98.8695 % recall:  0.872057746578 fscore:  0.868869489658\n"
     ]
    },
    {
     "name": "stderr",
     "output_type": "stream",
     "text": [
      " 75%|███████▍  | 2115/2830 [14:07<04:46,  2.49batches/s]\n",
      "  0%|          | 0/15 [00:00<?, ?it/s]\u001b[A\n",
      "  7%|▋         | 1/15 [00:00<00:02,  5.81it/s]\u001b[A\n",
      " 13%|█▎        | 2/15 [00:00<00:02,  5.79it/s]\u001b[A\n",
      " 20%|██        | 3/15 [00:00<00:02,  5.47it/s]\u001b[A\n",
      " 27%|██▋       | 4/15 [00:00<00:01,  5.52it/s]\u001b[A\n",
      " 33%|███▎      | 5/15 [00:00<00:01,  5.55it/s]\u001b[A\n",
      " 40%|████      | 6/15 [00:01<00:01,  5.57it/s]\u001b[A\n",
      " 47%|████▋     | 7/15 [00:01<00:01,  5.58it/s]\u001b[A\n",
      " 53%|█████▎    | 8/15 [00:01<00:01,  5.48it/s]\u001b[A\n",
      " 60%|██████    | 9/15 [00:01<00:01,  5.51it/s]\u001b[A\n",
      " 67%|██████▋   | 10/15 [00:01<00:00,  5.53it/s]\u001b[A\n",
      " 73%|███████▎  | 11/15 [00:01<00:00,  5.53it/s]\u001b[A\n",
      " 80%|████████  | 12/15 [00:02<00:00,  5.54it/s]\u001b[A\n",
      " 87%|████████▋ | 13/15 [00:02<00:00,  5.56it/s]\u001b[A\n",
      " 93%|█████████▎| 14/15 [00:02<00:00,  5.57it/s]\u001b[A\n",
      "100%|██████████| 15/15 [00:02<00:00,  5.58it/s]\u001b[A\n",
      "\u001b[A"
     ]
    },
    {
     "name": "stdout",
     "output_type": "stream",
     "text": [
      "loss:  0.0297322  accuracy:  98.943 % recall:  0.823083097969 fscore:  0.869740762869\n"
     ]
    },
    {
     "name": "stderr",
     "output_type": "stream",
     "text": [
      " 80%|███████▉  | 2256/2830 [15:04<03:50,  2.49batches/s]\n",
      "  0%|          | 0/15 [00:00<?, ?it/s]\u001b[A\n",
      "  7%|▋         | 1/15 [00:00<00:02,  4.95it/s]\u001b[A\n",
      " 13%|█▎        | 2/15 [00:00<00:02,  4.92it/s]\u001b[A\n",
      " 20%|██        | 3/15 [00:00<00:02,  5.18it/s]\u001b[A\n",
      " 27%|██▋       | 4/15 [00:00<00:02,  5.09it/s]\u001b[A\n",
      " 33%|███▎      | 5/15 [00:00<00:01,  5.19it/s]\u001b[A\n",
      " 40%|████      | 6/15 [00:01<00:01,  5.26it/s]\u001b[A\n",
      " 47%|████▋     | 7/15 [00:01<00:01,  5.33it/s]\u001b[A\n",
      " 53%|█████▎    | 8/15 [00:01<00:01,  5.26it/s]\u001b[A\n",
      " 60%|██████    | 9/15 [00:01<00:01,  5.21it/s]\u001b[A\n",
      " 67%|██████▋   | 10/15 [00:01<00:00,  5.26it/s]\u001b[A\n",
      " 73%|███████▎  | 11/15 [00:02<00:00,  5.30it/s]\u001b[A\n",
      " 80%|████████  | 12/15 [00:02<00:00,  5.32it/s]\u001b[A\n",
      " 87%|████████▋ | 13/15 [00:02<00:00,  5.34it/s]\u001b[A\n",
      " 93%|█████████▎| 14/15 [00:02<00:00,  5.31it/s]\u001b[A\n",
      "100%|██████████| 15/15 [00:02<00:00,  5.34it/s]\u001b[A\n",
      "\u001b[A"
     ]
    },
    {
     "name": "stdout",
     "output_type": "stream",
     "text": [
      "loss:  0.0293821  accuracy:  98.9659 % recall:  0.840828469222 fscore:  0.874908743914\n"
     ]
    },
    {
     "name": "stderr",
     "output_type": "stream",
     "text": [
      " 85%|████████▍ | 2397/2830 [16:00<02:53,  2.49batches/s]\n",
      "  0%|          | 0/15 [00:00<?, ?it/s]\u001b[A\n",
      "  7%|▋         | 1/15 [00:00<00:02,  4.99it/s]\u001b[A\n",
      " 13%|█▎        | 2/15 [00:00<00:02,  5.34it/s]\u001b[A\n",
      " 20%|██        | 3/15 [00:00<00:02,  5.46it/s]\u001b[A\n",
      " 27%|██▋       | 4/15 [00:00<00:01,  5.52it/s]\u001b[A\n",
      " 33%|███▎      | 5/15 [00:00<00:01,  5.56it/s]\u001b[A\n",
      " 40%|████      | 6/15 [00:01<00:01,  5.58it/s]\u001b[A\n",
      " 47%|████▋     | 7/15 [00:01<00:01,  5.48it/s]\u001b[A\n",
      " 53%|█████▎    | 8/15 [00:01<00:01,  5.51it/s]\u001b[A\n",
      " 60%|██████    | 9/15 [00:01<00:01,  5.49it/s]\u001b[A\n",
      " 67%|██████▋   | 10/15 [00:01<00:00,  5.52it/s]\u001b[A\n",
      " 73%|███████▎  | 11/15 [00:01<00:00,  5.54it/s]\u001b[A\n",
      " 80%|████████  | 12/15 [00:02<00:00,  5.54it/s]\u001b[A\n",
      " 87%|████████▋ | 13/15 [00:02<00:00,  5.55it/s]\u001b[A\n",
      " 93%|█████████▎| 14/15 [00:02<00:00,  5.56it/s]\u001b[A\n",
      "100%|██████████| 15/15 [00:02<00:00,  5.57it/s]\u001b[A\n",
      "\u001b[A"
     ]
    },
    {
     "name": "stdout",
     "output_type": "stream",
     "text": [
      "loss:  0.0279245  accuracy:  99.0255 % recall:  0.854491500596 fscore:  0.883299538076\n"
     ]
    },
    {
     "name": "stderr",
     "output_type": "stream",
     "text": [
      " 90%|████████▉ | 2538/2830 [16:57<01:57,  2.49batches/s]\n",
      "  0%|          | 0/15 [00:00<?, ?it/s]\u001b[A\n",
      "  7%|▋         | 1/15 [00:00<00:02,  5.91it/s]\u001b[A\n",
      " 13%|█▎        | 2/15 [00:00<00:02,  5.76it/s]\u001b[A\n",
      " 20%|██        | 3/15 [00:00<00:02,  5.74it/s]\u001b[A\n",
      " 27%|██▋       | 4/15 [00:00<00:01,  5.75it/s]\u001b[A\n",
      " 33%|███▎      | 5/15 [00:00<00:01,  5.73it/s]\u001b[A\n",
      " 40%|████      | 6/15 [00:01<00:01,  5.73it/s]\u001b[A\n",
      " 47%|████▋     | 7/15 [00:01<00:01,  5.72it/s]\u001b[A\n",
      " 53%|█████▎    | 8/15 [00:01<00:01,  5.72it/s]\u001b[A\n",
      " 60%|██████    | 9/15 [00:01<00:01,  5.71it/s]\u001b[A\n",
      " 67%|██████▋   | 10/15 [00:01<00:00,  5.70it/s]\u001b[A\n",
      " 73%|███████▎  | 11/15 [00:01<00:00,  5.70it/s]\u001b[A\n",
      " 80%|████████  | 12/15 [00:02<00:00,  5.71it/s]\u001b[A\n",
      " 87%|████████▋ | 13/15 [00:02<00:00,  5.70it/s]\u001b[A\n",
      " 93%|█████████▎| 14/15 [00:02<00:00,  5.69it/s]\u001b[A\n",
      "100%|██████████| 15/15 [00:02<00:00,  5.69it/s]\u001b[A\n",
      "\u001b[A"
     ]
    },
    {
     "name": "stdout",
     "output_type": "stream",
     "text": [
      "loss:  0.0271143  accuracy:  99.0469 % recall:  0.831688447822 fscore:  0.8827789113\n"
     ]
    },
    {
     "name": "stderr",
     "output_type": "stream",
     "text": [
      " 95%|█████████▍| 2679/2830 [17:54<01:00,  2.49batches/s]\n",
      "  0%|          | 0/15 [00:00<?, ?it/s]\u001b[A\n",
      "  7%|▋         | 1/15 [00:00<00:02,  5.89it/s]\u001b[A\n",
      " 13%|█▎        | 2/15 [00:00<00:02,  5.82it/s]\u001b[A\n",
      " 20%|██        | 3/15 [00:00<00:02,  5.80it/s]\u001b[A\n",
      " 27%|██▋       | 4/15 [00:00<00:01,  5.76it/s]\u001b[A\n",
      " 33%|███▎      | 5/15 [00:00<00:01,  5.76it/s]\u001b[A\n",
      " 40%|████      | 6/15 [00:01<00:01,  5.75it/s]\u001b[A\n",
      " 47%|████▋     | 7/15 [00:01<00:01,  5.75it/s]\u001b[A\n",
      " 53%|█████▎    | 8/15 [00:01<00:01,  5.61it/s]\u001b[A\n",
      " 60%|██████    | 9/15 [00:01<00:01,  5.52it/s]\u001b[A\n",
      " 67%|██████▋   | 10/15 [00:01<00:00,  5.54it/s]\u001b[A\n",
      " 73%|███████▎  | 11/15 [00:01<00:00,  5.55it/s]\u001b[A\n",
      " 80%|████████  | 12/15 [00:02<00:00,  5.57it/s]\u001b[A\n",
      " 87%|████████▋ | 13/15 [00:02<00:00,  5.58it/s]\u001b[A\n",
      " 93%|█████████▎| 14/15 [00:02<00:00,  5.58it/s]\u001b[A\n",
      "100%|██████████| 15/15 [00:02<00:00,  5.53it/s]\u001b[A\n",
      "\u001b[A"
     ]
    },
    {
     "name": "stdout",
     "output_type": "stream",
     "text": [
      "loss:  0.0256678  accuracy:  99.1172 % recall:  0.8902107355 fscore:  0.896744942886\n"
     ]
    },
    {
     "name": "stderr",
     "output_type": "stream",
     "text": [
      "100%|█████████▉| 2820/2830 [18:50<00:04,  2.49batches/s]\n",
      "  0%|          | 0/15 [00:00<?, ?it/s]\u001b[A\n",
      "  7%|▋         | 1/15 [00:00<00:02,  5.88it/s]\u001b[A\n",
      " 13%|█▎        | 2/15 [00:00<00:02,  5.81it/s]\u001b[A\n",
      " 20%|██        | 3/15 [00:00<00:02,  5.78it/s]\u001b[A\n",
      " 27%|██▋       | 4/15 [00:00<00:01,  5.76it/s]\u001b[A\n",
      " 33%|███▎      | 5/15 [00:00<00:01,  5.75it/s]\u001b[A\n",
      " 40%|████      | 6/15 [00:01<00:01,  5.73it/s]\u001b[A\n",
      " 47%|████▋     | 7/15 [00:01<00:01,  5.74it/s]\u001b[A\n",
      " 53%|█████▎    | 8/15 [00:01<00:01,  5.73it/s]\u001b[A\n",
      " 60%|██████    | 9/15 [00:01<00:01,  5.73it/s]\u001b[A\n",
      " 67%|██████▋   | 10/15 [00:01<00:00,  5.73it/s]\u001b[A\n",
      " 73%|███████▎  | 11/15 [00:01<00:00,  5.72it/s]\u001b[A\n",
      " 80%|████████  | 12/15 [00:02<00:00,  5.72it/s]\u001b[A\n",
      " 87%|████████▋ | 13/15 [00:02<00:00,  5.72it/s]\u001b[A\n",
      " 93%|█████████▎| 14/15 [00:02<00:00,  5.72it/s]\u001b[A\n",
      "100%|██████████| 15/15 [00:02<00:00,  5.71it/s]\u001b[A\n",
      "\u001b[A"
     ]
    },
    {
     "name": "stdout",
     "output_type": "stream",
     "text": [
      "loss:  0.0259464  accuracy:  99.0961 % recall:  0.898290085696 fscore:  0.895471092145\n"
     ]
    },
    {
     "name": "stderr",
     "output_type": "stream",
     "text": [
      "100%|██████████| 2830/2830 [18:57<00:00,  2.49batches/s]\n",
      "  7%|▋         | 1/15 [00:00<00:02,  5.70it/s]"
     ]
    },
    {
     "name": "stdout",
     "output_type": "stream",
     "text": [
      "Testing...\n"
     ]
    },
    {
     "name": "stderr",
     "output_type": "stream",
     "text": [
      "100%|██████████| 15/15 [00:02<00:00,  5.54it/s]"
     ]
    },
    {
     "name": "stdout",
     "output_type": "stream",
     "text": [
      "loss:  0.0280849  accuracy:  99.0115 % recall:  0.815253438713 fscore 0.878481338151\n"
     ]
    },
    {
     "name": "stderr",
     "output_type": "stream",
     "text": [
      "\n"
     ]
    }
   ],
   "source": [
    "sess.run(tf.global_variables_initializer())\n",
    "for i in tqdm.trange(steps, unit=\"batches\"):\n",
    "    b_data, b_label = get_padded_batch(\"train\")\n",
    "    _, batch_loss, summary= sess.run([train_op, loss, summary_op], {x: b_data.astype(float), y: b_label})\n",
    "    assert not np.isnan(batch_loss)\n",
    "    \n",
    "    if i % 20 == 0:\n",
    "        writer.add_summary(summary, i)\n",
    "        \n",
    "    if i % int(steps / FLAGS.epochs / 2) == 0:\n",
    "        l, a, r, f = get_metrics_on_dataset(\"validation\", i)\n",
    "        print(\"loss: \", l, \" accuracy: \", a, \"% recall: \", r, \"fscore: \", f)\n",
    "        if early.add(l):\n",
    "            break\n",
    "            \n",
    "    if i % int(steps / FLAGS.epochs / 2) == 0:\n",
    "        save_path = saver.save(sess, path + \"/model.ckpt\", global_step=i)\n",
    "        \n",
    "print(\"Testing...\")\n",
    "l, a, r, f = get_metrics_on_dataset(\"test\", steps)\n",
    "print(\"loss: \", l, \" accuracy: \", a, \"% recall: \", r, \"fscore\", f)"
   ]
  },
  {
   "cell_type": "code",
   "execution_count": 6,
   "metadata": {},
   "outputs": [],
   "source": [
    "writer.flush()"
   ]
  }
 ],
 "metadata": {
  "kernelspec": {
   "display_name": "Python 3",
   "language": "python",
   "name": "python3"
  },
  "language_info": {
   "codemirror_mode": {
    "name": "ipython",
    "version": 3
   },
   "file_extension": ".py",
   "mimetype": "text/x-python",
   "name": "python",
   "nbconvert_exporter": "python",
   "pygments_lexer": "ipython3",
   "version": "3.4.2"
  }
 },
 "nbformat": 4,
 "nbformat_minor": 2
}
